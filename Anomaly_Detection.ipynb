{
  "nbformat": 4,
  "nbformat_minor": 0,
  "metadata": {
    "colab": {
      "name": "Anomaly Detection",
      "provenance": [],
      "collapsed_sections": [],
      "authorship_tag": "ABX9TyPKVqxcG8qYdKvVSc0M7r65",
      "include_colab_link": true
    },
    "kernelspec": {
      "name": "ir",
      "display_name": "R"
    }
  },
  "cells": [
    {
      "cell_type": "markdown",
      "metadata": {
        "id": "view-in-github",
        "colab_type": "text"
      },
      "source": [
        "<a href=\"https://colab.research.google.com/github/GladwelWanjau/Week-14-IP/blob/main/Anomaly_Detection.ipynb\" target=\"_parent\"><img src=\"https://colab.research.google.com/assets/colab-badge.svg\" alt=\"Open In Colab\"/></a>"
      ]
    },
    {
      "cell_type": "markdown",
      "metadata": {
        "id": "S8X3bmjzzi_g"
      },
      "source": [
        "# Understanding the Problem\n",
        "\n",
        "To help Carrefour in identifying anomalis in the data with regards tio sales for each day."
      ]
    },
    {
      "cell_type": "markdown",
      "metadata": {
        "id": "uph0FutT0ISf"
      },
      "source": [
        "# Understanding the Context\n",
        "As a Data analyst at Carrefour Kenya and are currently undertaking a project that will inform the marketing department on the most relevant marketing strategies that will result in the highest no. of sales (total price including tax). Your project has been divided into four parts where you'll explore a recent marketing dataset by performing various unsupervised learning techniques and later providing recommendations based on your insights."
      ]
    },
    {
      "cell_type": "markdown",
      "metadata": {
        "id": "71aqoetC0uoY"
      },
      "source": [
        "# Experimental Design\n",
        "1. Data Loading and Cleaning\n",
        "\n",
        "2.Perform Exploratory Data Analysis\n",
        "\n",
        "3. Implement the Solution\n",
        "\n",
        "4. Challenge the Solution\n"
      ]
    },
    {
      "cell_type": "code",
      "metadata": {
        "id": "YJyhqsQFjv4w",
        "outputId": "0c1dd81d-9d0a-41f9-ea67-efd09e7e06b9",
        "colab": {
          "base_uri": "https://localhost:8080/",
          "height": 1000
        }
      },
      "source": [
        "data<-read.csv(\"/content/Supermarket_Sales_Forecasting - Sales.csv\")\n",
        "data"
      ],
      "execution_count": null,
      "outputs": [
        {
          "output_type": "display_data",
          "data": {
            "text/plain": [
              "     Date      Sales    \n",
              "1    1/5/2019  548.9715 \n",
              "2    3/8/2019   80.2200 \n",
              "3    3/3/2019  340.5255 \n",
              "4    1/27/2019 489.0480 \n",
              "5    2/8/2019  634.3785 \n",
              "6    3/25/2019 627.6165 \n",
              "7    2/25/2019 433.6920 \n",
              "8    2/24/2019 772.3800 \n",
              "9    1/10/2019  76.1460 \n",
              "10   2/20/2019 172.7460 \n",
              "11   2/6/2019   60.8160 \n",
              "12   3/9/2019  107.1420 \n",
              "13   2/12/2019 246.4875 \n",
              "14   2/7/2019  453.4950 \n",
              "15   3/29/2019 749.4900 \n",
              "16   1/15/2019 590.4360 \n",
              "17   3/11/2019 506.6355 \n",
              "18   1/1/2019  457.4430 \n",
              "19   1/21/2019 172.2105 \n",
              "20   3/11/2019  84.6300 \n",
              "21   2/25/2019 451.7100 \n",
              "22   3/5/2019  277.1370 \n",
              "23   3/15/2019  69.7200 \n",
              "24   2/17/2019 181.4400 \n",
              "25   3/2/2019  279.1845 \n",
              "26   3/22/2019 441.7560 \n",
              "27   2/8/2019   35.1960 \n",
              "28   3/10/2019 184.1070 \n",
              "29   1/25/2019 463.8900 \n",
              "30   3/15/2019 235.2105 \n",
              "⋮    ⋮         ⋮        \n",
              "971  1/1/2019   888.6150\n",
              "972  2/10/2019  271.2885\n",
              "973  1/26/2019  640.0380\n",
              "974  2/11/2019  252.2520\n",
              "975  2/7/2019   180.8730\n",
              "976  3/6/2019   104.8320\n",
              "977  3/4/2019   313.5720\n",
              "978  2/26/2019  167.5800\n",
              "979  3/10/2019   26.7225\n",
              "980  2/4/2019    71.1585\n",
              "981  1/19/2019  250.2780\n",
              "982  1/23/2019  244.2300\n",
              "983  3/14/2019  921.1860\n",
              "984  1/23/2019  734.7060\n",
              "985  1/9/2019   708.3195\n",
              "986  2/7/2019   334.4775\n",
              "987  2/18/2019   30.9960\n",
              "988  1/3/2019   520.8000\n",
              "989  3/29/2019  864.5700\n",
              "990  1/28/2019  633.1080\n",
              "991  3/22/2019  296.9400\n",
              "992  1/24/2019  804.3000\n",
              "993  3/10/2019  121.8630\n",
              "994  2/22/2019  183.6450\n",
              "995  2/18/2019   63.9975\n",
              "996  1/29/2019   42.3675\n",
              "997  3/2/2019  1022.4900\n",
              "998  2/9/2019    33.4320\n",
              "999  2/22/2019   69.1110\n",
              "1000 2/18/2019  649.2990"
            ],
            "text/latex": "A data.frame: 1000 × 2\n\\begin{tabular}{ll}\n Date & Sales\\\\\n <chr> & <dbl>\\\\\n\\hline\n\t 1/5/2019  & 548.9715\\\\\n\t 3/8/2019  &  80.2200\\\\\n\t 3/3/2019  & 340.5255\\\\\n\t 1/27/2019 & 489.0480\\\\\n\t 2/8/2019  & 634.3785\\\\\n\t 3/25/2019 & 627.6165\\\\\n\t 2/25/2019 & 433.6920\\\\\n\t 2/24/2019 & 772.3800\\\\\n\t 1/10/2019 &  76.1460\\\\\n\t 2/20/2019 & 172.7460\\\\\n\t 2/6/2019  &  60.8160\\\\\n\t 3/9/2019  & 107.1420\\\\\n\t 2/12/2019 & 246.4875\\\\\n\t 2/7/2019  & 453.4950\\\\\n\t 3/29/2019 & 749.4900\\\\\n\t 1/15/2019 & 590.4360\\\\\n\t 3/11/2019 & 506.6355\\\\\n\t 1/1/2019  & 457.4430\\\\\n\t 1/21/2019 & 172.2105\\\\\n\t 3/11/2019 &  84.6300\\\\\n\t 2/25/2019 & 451.7100\\\\\n\t 3/5/2019  & 277.1370\\\\\n\t 3/15/2019 &  69.7200\\\\\n\t 2/17/2019 & 181.4400\\\\\n\t 3/2/2019  & 279.1845\\\\\n\t 3/22/2019 & 441.7560\\\\\n\t 2/8/2019  &  35.1960\\\\\n\t 3/10/2019 & 184.1070\\\\\n\t 1/25/2019 & 463.8900\\\\\n\t 3/15/2019 & 235.2105\\\\\n\t ⋮ & ⋮\\\\\n\t 1/1/2019  &  888.6150\\\\\n\t 2/10/2019 &  271.2885\\\\\n\t 1/26/2019 &  640.0380\\\\\n\t 2/11/2019 &  252.2520\\\\\n\t 2/7/2019  &  180.8730\\\\\n\t 3/6/2019  &  104.8320\\\\\n\t 3/4/2019  &  313.5720\\\\\n\t 2/26/2019 &  167.5800\\\\\n\t 3/10/2019 &   26.7225\\\\\n\t 2/4/2019  &   71.1585\\\\\n\t 1/19/2019 &  250.2780\\\\\n\t 1/23/2019 &  244.2300\\\\\n\t 3/14/2019 &  921.1860\\\\\n\t 1/23/2019 &  734.7060\\\\\n\t 1/9/2019  &  708.3195\\\\\n\t 2/7/2019  &  334.4775\\\\\n\t 2/18/2019 &   30.9960\\\\\n\t 1/3/2019  &  520.8000\\\\\n\t 3/29/2019 &  864.5700\\\\\n\t 1/28/2019 &  633.1080\\\\\n\t 3/22/2019 &  296.9400\\\\\n\t 1/24/2019 &  804.3000\\\\\n\t 3/10/2019 &  121.8630\\\\\n\t 2/22/2019 &  183.6450\\\\\n\t 2/18/2019 &   63.9975\\\\\n\t 1/29/2019 &   42.3675\\\\\n\t 3/2/2019  & 1022.4900\\\\\n\t 2/9/2019  &   33.4320\\\\\n\t 2/22/2019 &   69.1110\\\\\n\t 2/18/2019 &  649.2990\\\\\n\\end{tabular}\n",
            "text/markdown": "\nA data.frame: 1000 × 2\n\n| Date &lt;chr&gt; | Sales &lt;dbl&gt; |\n|---|---|\n| 1/5/2019  | 548.9715 |\n| 3/8/2019  |  80.2200 |\n| 3/3/2019  | 340.5255 |\n| 1/27/2019 | 489.0480 |\n| 2/8/2019  | 634.3785 |\n| 3/25/2019 | 627.6165 |\n| 2/25/2019 | 433.6920 |\n| 2/24/2019 | 772.3800 |\n| 1/10/2019 |  76.1460 |\n| 2/20/2019 | 172.7460 |\n| 2/6/2019  |  60.8160 |\n| 3/9/2019  | 107.1420 |\n| 2/12/2019 | 246.4875 |\n| 2/7/2019  | 453.4950 |\n| 3/29/2019 | 749.4900 |\n| 1/15/2019 | 590.4360 |\n| 3/11/2019 | 506.6355 |\n| 1/1/2019  | 457.4430 |\n| 1/21/2019 | 172.2105 |\n| 3/11/2019 |  84.6300 |\n| 2/25/2019 | 451.7100 |\n| 3/5/2019  | 277.1370 |\n| 3/15/2019 |  69.7200 |\n| 2/17/2019 | 181.4400 |\n| 3/2/2019  | 279.1845 |\n| 3/22/2019 | 441.7560 |\n| 2/8/2019  |  35.1960 |\n| 3/10/2019 | 184.1070 |\n| 1/25/2019 | 463.8900 |\n| 3/15/2019 | 235.2105 |\n| ⋮ | ⋮ |\n| 1/1/2019  |  888.6150 |\n| 2/10/2019 |  271.2885 |\n| 1/26/2019 |  640.0380 |\n| 2/11/2019 |  252.2520 |\n| 2/7/2019  |  180.8730 |\n| 3/6/2019  |  104.8320 |\n| 3/4/2019  |  313.5720 |\n| 2/26/2019 |  167.5800 |\n| 3/10/2019 |   26.7225 |\n| 2/4/2019  |   71.1585 |\n| 1/19/2019 |  250.2780 |\n| 1/23/2019 |  244.2300 |\n| 3/14/2019 |  921.1860 |\n| 1/23/2019 |  734.7060 |\n| 1/9/2019  |  708.3195 |\n| 2/7/2019  |  334.4775 |\n| 2/18/2019 |   30.9960 |\n| 1/3/2019  |  520.8000 |\n| 3/29/2019 |  864.5700 |\n| 1/28/2019 |  633.1080 |\n| 3/22/2019 |  296.9400 |\n| 1/24/2019 |  804.3000 |\n| 3/10/2019 |  121.8630 |\n| 2/22/2019 |  183.6450 |\n| 2/18/2019 |   63.9975 |\n| 1/29/2019 |   42.3675 |\n| 3/2/2019  | 1022.4900 |\n| 2/9/2019  |   33.4320 |\n| 2/22/2019 |   69.1110 |\n| 2/18/2019 |  649.2990 |\n\n",
            "text/html": [
              "<table>\n",
              "<caption>A data.frame: 1000 × 2</caption>\n",
              "<thead>\n",
              "\t<tr><th scope=col>Date</th><th scope=col>Sales</th></tr>\n",
              "\t<tr><th scope=col>&lt;chr&gt;</th><th scope=col>&lt;dbl&gt;</th></tr>\n",
              "</thead>\n",
              "<tbody>\n",
              "\t<tr><td>1/5/2019 </td><td>548.9715</td></tr>\n",
              "\t<tr><td>3/8/2019 </td><td> 80.2200</td></tr>\n",
              "\t<tr><td>3/3/2019 </td><td>340.5255</td></tr>\n",
              "\t<tr><td>1/27/2019</td><td>489.0480</td></tr>\n",
              "\t<tr><td>2/8/2019 </td><td>634.3785</td></tr>\n",
              "\t<tr><td>3/25/2019</td><td>627.6165</td></tr>\n",
              "\t<tr><td>2/25/2019</td><td>433.6920</td></tr>\n",
              "\t<tr><td>2/24/2019</td><td>772.3800</td></tr>\n",
              "\t<tr><td>1/10/2019</td><td> 76.1460</td></tr>\n",
              "\t<tr><td>2/20/2019</td><td>172.7460</td></tr>\n",
              "\t<tr><td>2/6/2019 </td><td> 60.8160</td></tr>\n",
              "\t<tr><td>3/9/2019 </td><td>107.1420</td></tr>\n",
              "\t<tr><td>2/12/2019</td><td>246.4875</td></tr>\n",
              "\t<tr><td>2/7/2019 </td><td>453.4950</td></tr>\n",
              "\t<tr><td>3/29/2019</td><td>749.4900</td></tr>\n",
              "\t<tr><td>1/15/2019</td><td>590.4360</td></tr>\n",
              "\t<tr><td>3/11/2019</td><td>506.6355</td></tr>\n",
              "\t<tr><td>1/1/2019 </td><td>457.4430</td></tr>\n",
              "\t<tr><td>1/21/2019</td><td>172.2105</td></tr>\n",
              "\t<tr><td>3/11/2019</td><td> 84.6300</td></tr>\n",
              "\t<tr><td>2/25/2019</td><td>451.7100</td></tr>\n",
              "\t<tr><td>3/5/2019 </td><td>277.1370</td></tr>\n",
              "\t<tr><td>3/15/2019</td><td> 69.7200</td></tr>\n",
              "\t<tr><td>2/17/2019</td><td>181.4400</td></tr>\n",
              "\t<tr><td>3/2/2019 </td><td>279.1845</td></tr>\n",
              "\t<tr><td>3/22/2019</td><td>441.7560</td></tr>\n",
              "\t<tr><td>2/8/2019 </td><td> 35.1960</td></tr>\n",
              "\t<tr><td>3/10/2019</td><td>184.1070</td></tr>\n",
              "\t<tr><td>1/25/2019</td><td>463.8900</td></tr>\n",
              "\t<tr><td>3/15/2019</td><td>235.2105</td></tr>\n",
              "\t<tr><td>⋮</td><td>⋮</td></tr>\n",
              "\t<tr><td>1/1/2019 </td><td> 888.6150</td></tr>\n",
              "\t<tr><td>2/10/2019</td><td> 271.2885</td></tr>\n",
              "\t<tr><td>1/26/2019</td><td> 640.0380</td></tr>\n",
              "\t<tr><td>2/11/2019</td><td> 252.2520</td></tr>\n",
              "\t<tr><td>2/7/2019 </td><td> 180.8730</td></tr>\n",
              "\t<tr><td>3/6/2019 </td><td> 104.8320</td></tr>\n",
              "\t<tr><td>3/4/2019 </td><td> 313.5720</td></tr>\n",
              "\t<tr><td>2/26/2019</td><td> 167.5800</td></tr>\n",
              "\t<tr><td>3/10/2019</td><td>  26.7225</td></tr>\n",
              "\t<tr><td>2/4/2019 </td><td>  71.1585</td></tr>\n",
              "\t<tr><td>1/19/2019</td><td> 250.2780</td></tr>\n",
              "\t<tr><td>1/23/2019</td><td> 244.2300</td></tr>\n",
              "\t<tr><td>3/14/2019</td><td> 921.1860</td></tr>\n",
              "\t<tr><td>1/23/2019</td><td> 734.7060</td></tr>\n",
              "\t<tr><td>1/9/2019 </td><td> 708.3195</td></tr>\n",
              "\t<tr><td>2/7/2019 </td><td> 334.4775</td></tr>\n",
              "\t<tr><td>2/18/2019</td><td>  30.9960</td></tr>\n",
              "\t<tr><td>1/3/2019 </td><td> 520.8000</td></tr>\n",
              "\t<tr><td>3/29/2019</td><td> 864.5700</td></tr>\n",
              "\t<tr><td>1/28/2019</td><td> 633.1080</td></tr>\n",
              "\t<tr><td>3/22/2019</td><td> 296.9400</td></tr>\n",
              "\t<tr><td>1/24/2019</td><td> 804.3000</td></tr>\n",
              "\t<tr><td>3/10/2019</td><td> 121.8630</td></tr>\n",
              "\t<tr><td>2/22/2019</td><td> 183.6450</td></tr>\n",
              "\t<tr><td>2/18/2019</td><td>  63.9975</td></tr>\n",
              "\t<tr><td>1/29/2019</td><td>  42.3675</td></tr>\n",
              "\t<tr><td>3/2/2019 </td><td>1022.4900</td></tr>\n",
              "\t<tr><td>2/9/2019 </td><td>  33.4320</td></tr>\n",
              "\t<tr><td>2/22/2019</td><td>  69.1110</td></tr>\n",
              "\t<tr><td>2/18/2019</td><td> 649.2990</td></tr>\n",
              "</tbody>\n",
              "</table>\n"
            ]
          },
          "metadata": {
            "tags": []
          }
        }
      ]
    },
    {
      "cell_type": "code",
      "metadata": {
        "id": "mfjsCzbJZ-Na",
        "outputId": "6df60b9b-8a03-420a-abf9-85a9d2c672b7",
        "colab": {
          "base_uri": "https://localhost:8080/"
        }
      },
      "source": [
        "#Checking the structure of the data\n",
        "str(data)"
      ],
      "execution_count": null,
      "outputs": [
        {
          "output_type": "stream",
          "text": [
            "'data.frame':\t1000 obs. of  2 variables:\n",
            " $ Date : chr  \"1/5/2019\" \"3/8/2019\" \"3/3/2019\" \"1/27/2019\" ...\n",
            " $ Sales: num  549 80.2 340.5 489 634.4 ...\n"
          ],
          "name": "stdout"
        }
      ]
    },
    {
      "cell_type": "code",
      "metadata": {
        "id": "Qttjg3YebS0L",
        "outputId": "85093d48-2ca0-43f9-a8e0-91b4ab11b434",
        "colab": {
          "base_uri": "https://localhost:8080/",
          "height": 34
        }
      },
      "source": [
        "#Checking if there are any missing data in the data\n",
        "anyNA(data)\n",
        "#Therea are no missing values"
      ],
      "execution_count": null,
      "outputs": [
        {
          "output_type": "display_data",
          "data": {
            "text/plain": [
              "[1] FALSE"
            ],
            "text/latex": "FALSE",
            "text/markdown": "FALSE",
            "text/html": [
              "FALSE"
            ]
          },
          "metadata": {
            "tags": []
          }
        }
      ]
    },
    {
      "cell_type": "code",
      "metadata": {
        "id": "xgusA_e7bZVN",
        "outputId": "93e7709a-a993-47a4-fb6a-f361d999ba80",
        "colab": {
          "base_uri": "https://localhost:8080/",
          "height": 34
        }
      },
      "source": [
        "#Rechecking the above by finding out the total sum of missing values in the columns\n",
        "colSums(is.na(data))\n",
        "#The sum indicates that the data does not have any missing values."
      ],
      "execution_count": null,
      "outputs": [
        {
          "output_type": "display_data",
          "data": {
            "text/plain": [
              " Date Sales \n",
              "    0     0 "
            ],
            "text/latex": "\\begin{description*}\n\\item[Date] 0\n\\item[Sales] 0\n\\end{description*}\n",
            "text/markdown": "Date\n:   0Sales\n:   0\n\n",
            "text/html": [
              "<style>\n",
              ".dl-inline {width: auto; margin:0; padding: 0}\n",
              ".dl-inline>dt, .dl-inline>dd {float: none; width: auto; display: inline-block}\n",
              ".dl-inline>dt::after {content: \":\\0020\"; padding-right: .5ex}\n",
              ".dl-inline>dt:not(:first-of-type) {padding-left: .5ex}\n",
              "</style><dl class=dl-inline><dt>Date</dt><dd>0</dd><dt>Sales</dt><dd>0</dd></dl>\n"
            ]
          },
          "metadata": {
            "tags": []
          }
        }
      ]
    },
    {
      "cell_type": "code",
      "metadata": {
        "id": "9rvxjPipbxWJ",
        "outputId": "9fc36a65-727e-4600-a76a-75eae756b8b3",
        "colab": {
          "base_uri": "https://localhost:8080/",
          "height": 135
        }
      },
      "source": [
        "#Improrting the relevant libraries\n",
        "library(tidyverse)\n",
        "\n"
      ],
      "execution_count": 8,
      "outputs": [
        {
          "output_type": "error",
          "ename": "ERROR",
          "evalue": "ignored",
          "traceback": [
            "Error in library(tibbletime): there is no package called ‘tibbletime’\nTraceback:\n",
            "1. library(tibbletime)"
          ]
        }
      ]
    },
    {
      "cell_type": "code",
      "metadata": {
        "id": "x3HdTR4e1KNK"
      },
      "source": [
        "library(tibbletime)\n"
      ],
      "execution_count": null,
      "outputs": []
    },
    {
      "cell_type": "code",
      "metadata": {
        "id": "PUZvYyJJdJNj",
        "outputId": "1ac324a9-0bfa-4d15-b1bd-036ed2304e1a",
        "colab": {
          "base_uri": "https://localhost:8080/",
          "height": 1000
        }
      },
      "source": [
        "# Conversion of the data for easy analysis\n",
        "data$Date <- as.Date(data$Date, \"%m/%d/%Y\")\n",
        "data_table = data %>%\n",
        "\n",
        "as.tibble() %>%\n",
        "\n",
        "as_tbl_time(Date) %>%\n",
        "\n",
        "arrange(Date) %>%\n",
        "\n",
        "as_period(\"daily\")"
      ],
      "execution_count": 12,
      "outputs": [
        {
          "output_type": "error",
          "ename": "ERROR",
          "evalue": "ignored",
          "traceback": [
            "Error in get(nm, envir = fn, mode = \"function\"): object 'as_period' of mode 'function' was not found\nTraceback:\n",
            "1. data %>% as.tibble() %>% as_tbl_time(Date) %>% arrange(Date) %>% \n .     as_period(\"daily\")",
            "2. withVisible(eval(quote(`_fseq`(`_lhs`)), env, env))",
            "3. eval(quote(`_fseq`(`_lhs`)), env, env)",
            "4. eval(quote(`_fseq`(`_lhs`)), env, env)",
            "5. `_fseq`(`_lhs`)",
            "6. freduce(value, `_function_list`)",
            "7. function_list[[i]](value)",
            "8. as.tibble(.)",
            "9. deprecate_warn(\"2.0.0\", \"as.tibble()\", \"as_tibble()\", details = \"The signature and semantics have changed, see `?as_tibble`.\")",
            "10. trace_back(bottom = caller_env())",
            "11. add_pipe_pointer(calls, frames)",
            "12. map2(pipe_begs, pipe_kinds, function(beg, kind) {\n  .     call <- calls[[beg]]\n  .     if (kind == 0L) {\n  .         return(call)\n  .     }\n  .     if (kind == 1L) {\n  .         v <- \"i\"\n  .     }\n  .     else if (kind == 2L) {\n  .         v <- \"k\"\n  .     }\n  .     frame <- frames[[beg + 5L]]\n  .     pointer <- frame[[v]]\n  .     fn <- frame[[\"function_list\"]][[1]]\n  .     info <- pipe_collect_calls(call, fn_env(fn))\n  .     structure(call, pipe_pointer = pointer, pipe_info = info)\n  . })",
            "13. mapply(.f, .x, .y, MoreArgs = list(...), SIMPLIFY = FALSE)",
            "14. (function (beg, kind) \n  . {\n  .     call <- calls[[beg]]\n  .     if (kind == 0L) {\n  .         return(call)\n  .     }\n  .     if (kind == 1L) {\n  .         v <- \"i\"\n  .     }\n  .     else if (kind == 2L) {\n  .         v <- \"k\"\n  .     }\n  .     frame <- frames[[beg + 5L]]\n  .     pointer <- frame[[v]]\n  .     fn <- frame[[\"function_list\"]][[1]]\n  .     info <- pipe_collect_calls(call, fn_env(fn))\n  .     structure(call, pipe_pointer = pointer, pipe_info = info)\n  . })(dots[[1L]][[1L]], dots[[2L]][[1L]])",
            "15. pipe_collect_calls(call, fn_env(fn))",
            "16. maybe_add_namespace(last_call, env)",
            "17. get(nm, envir = fn, mode = \"function\")"
          ]
        }
      ]
    },
    {
      "cell_type": "code",
      "metadata": {
        "id": "S_xpUaVAo-fB"
      },
      "source": [
        "library(anomalize)\n",
        "\n",
        "\n",
        "\n",
        "data_anomaly <- sales_ts %>%\n",
        "\n",
        "time_decompose(Sales) %>% \n",
        "\n",
        "anomalize(remainder,max_anoms = 0.2, alpha=0.05) %>%\n",
        "\n",
        "time_recompose() %>% glimpse()\n"
      ],
      "execution_count": null,
      "outputs": []
    },
    {
      "cell_type": "code",
      "metadata": {
        "id": "Jhh_XqoEp9bE"
      },
      "source": [
        "sales_anomaly %>% plot_anomalies(time_recomposed = TRUE)\n",
        "\n",
        "#sales_anomaly %>% plot_anomaly_decomposition(time_recompose = T)\n"
      ],
      "execution_count": null,
      "outputs": []
    },
    {
      "cell_type": "markdown",
      "metadata": {
        "id": "bmroKakM61HY"
      },
      "source": [
        "# Summary of Findings:\n",
        "From the analysis it is clear that the data has no anomalies which a good indication of the sytems and internal control measures put in place by Carrefour management."
      ]
    }
  ]
}