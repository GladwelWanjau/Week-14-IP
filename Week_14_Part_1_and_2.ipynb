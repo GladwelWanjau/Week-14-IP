{
  "nbformat": 4,
  "nbformat_minor": 0,
  "metadata": {
    "colab": {
      "name": "Week 14 Part 1 and 2",
      "provenance": [],
      "collapsed_sections": [],
      "toc_visible": true,
      "authorship_tag": "ABX9TyODvJT+G1JEUybip1R9Ox9c",
      "include_colab_link": true
    },
    "kernelspec": {
      "display_name": "Python 3",
      "name": "python3"
    }
  },
  "cells": [
    {
      "cell_type": "markdown",
      "metadata": {
        "id": "view-in-github",
        "colab_type": "text"
      },
      "source": [
        "<a href=\"https://colab.research.google.com/github/GladwelWanjau/Week-14-IP/blob/main/Week_14_Part_1_and_2.ipynb\" target=\"_parent\"><img src=\"https://colab.research.google.com/assets/colab-badge.svg\" alt=\"Open In Colab\"/></a>"
      ]
    },
    {
      "cell_type": "markdown",
      "metadata": {
        "id": "kxmGaynaFTJX"
      },
      "source": [
        "# Understanding the Problem\n",
        "\n",
        "Build models that will inform on relevant marketing strategies that will result in the highest no. of sales (total price including tax) for the Marketing Department at CarreFour Kenya"
      ]
    },
    {
      "cell_type": "markdown",
      "metadata": {
        "id": "RKSvzd0AFhKV"
      },
      "source": [
        "Understanding the Context\n",
        "# New Section\n",
        "As a Data analyst at Carrefour Kenya and are currently undertaking a project that will inform the marketing department on the most relevant marketing strategies that will result in the highest no. of sales (total price including tax). Your project has been divided into four parts where you'll explore a recent marketing dataset by performing various unsupervised learning techniques and later providing recommendations based on your insights."
      ]
    },
    {
      "cell_type": "markdown",
      "metadata": {
        "id": "xwfI7US3E2yX"
      },
      "source": [
        "# Data Relevance\n",
        "The availed data had the following columns:\n",
        "\n",
        "Categorical Variables:-\n",
        "\n",
        "1. Branch\n",
        "\n",
        "2. Customer Type\n",
        "\n",
        "3. Gender\n",
        "\n",
        "4. Product Line\n",
        "\n",
        "5. Payment\n",
        "\n",
        "\n",
        "\n",
        "In the Numeric variables:-\n",
        "\n",
        "\n",
        "\n",
        "1. Tax\n",
        "\n",
        "2. Total\n",
        "\n",
        "3. Cogs\n",
        "\n",
        "4. Gross_Income\n"
      ]
    },
    {
      "cell_type": "markdown",
      "metadata": {
        "id": "T7-dHjxKFMF7"
      },
      "source": [
        ""
      ]
    },
    {
      "cell_type": "code",
      "metadata": {
        "id": "Fu3Gp3_n6FZc",
        "outputId": "4c535232-c5bb-41e0-9cd1-7177fff343e5",
        "colab": {
          "base_uri": "https://localhost:8080/"
        }
      },
      "source": [
        "!jupyter-kernelspec list"
      ],
      "execution_count": 22,
      "outputs": [
        {
          "output_type": "stream",
          "text": [
            "Available kernels:\n",
            "  ir         /usr/local/share/jupyter/kernels/ir\n",
            "  python2    /usr/local/share/jupyter/kernels/python2\n",
            "  python3    /usr/local/share/jupyter/kernels/python3\n",
            "  swift      /usr/local/share/jupyter/kernels/swift\n"
          ],
          "name": "stdout"
        }
      ]
    },
    {
      "cell_type": "code",
      "metadata": {
        "id": "WwFr0byG6E9D",
        "outputId": "6ed1a215-c5af-49f1-ccae-340fc877919c",
        "colab": {
          "base_uri": "https://localhost:8080/"
        }
      },
      "source": [
        "# activating R magic\n",
        "%load_ext rpy2.ipython"
      ],
      "execution_count": 23,
      "outputs": [
        {
          "output_type": "stream",
          "text": [
            "The rpy2.ipython extension is already loaded. To reload it, use:\n",
            "  %reload_ext rpy2.ipython\n"
          ],
          "name": "stdout"
        }
      ]
    },
    {
      "cell_type": "code",
      "metadata": {
        "id": "6wi0Pny83rpE",
        "outputId": "05b329da-e3b8-4da8-8bf5-a09bf4b58209",
        "colab": {
          "base_uri": "https://localhost:8080/"
        }
      },
      "source": [
        "%%R\n",
        "Sales_Dataset<-read.csv(\"/content/Supermarket_Dataset_1 - Sales Data.csv\")\n",
        "head(Sales_Dataset)"
      ],
      "execution_count": 24,
      "outputs": [
        {
          "output_type": "stream",
          "text": [
            "   Invoice.ID Branch Customer.type Gender           Product.line Unit.price\n",
            "1 750-67-8428      A        Member Female      Health and beauty      74.69\n",
            "2 226-31-3081      C        Normal Female Electronic accessories      15.28\n",
            "3 631-41-3108      A        Normal   Male     Home and lifestyle      46.33\n",
            "4 123-19-1176      A        Member   Male      Health and beauty      58.22\n",
            "5 373-73-7910      A        Normal   Male      Sports and travel      86.31\n",
            "6 699-14-3026      C        Normal   Male Electronic accessories      85.39\n",
            "  Quantity     Tax      Date  Time     Payment   cogs gross.margin.percentage\n",
            "1        7 26.1415  1/5/2019 13:08     Ewallet 522.83                4.761905\n",
            "2        5  3.8200  3/8/2019 10:29        Cash  76.40                4.761905\n",
            "3        7 16.2155  3/3/2019 13:23 Credit card 324.31                4.761905\n",
            "4        8 23.2880 1/27/2019 20:33     Ewallet 465.76                4.761905\n",
            "5        7 30.2085  2/8/2019 10:37     Ewallet 604.17                4.761905\n",
            "6        7 29.8865 3/25/2019 18:30     Ewallet 597.73                4.761905\n",
            "  gross.income Rating    Total\n",
            "1      26.1415    9.1 548.9715\n",
            "2       3.8200    9.6  80.2200\n",
            "3      16.2155    7.4 340.5255\n",
            "4      23.2880    8.4 489.0480\n",
            "5      30.2085    5.3 634.3785\n",
            "6      29.8865    4.1 627.6165\n"
          ],
          "name": "stdout"
        }
      ]
    },
    {
      "cell_type": "markdown",
      "metadata": {
        "id": "WQZHeladhAeE"
      },
      "source": [
        "# Data Loading and Cleaning"
      ]
    },
    {
      "cell_type": "code",
      "metadata": {
        "id": "bcy_jsZC6EJp",
        "outputId": "fabc15d7-b919-4ff4-87c2-1976baf9d8bf",
        "colab": {
          "base_uri": "https://localhost:8080/"
        }
      },
      "source": [
        "%%R\n",
        "#Checking the Structure of the data\n",
        "str(Sales_Dataset)"
      ],
      "execution_count": 25,
      "outputs": [
        {
          "output_type": "stream",
          "text": [
            "'data.frame':\t1000 obs. of  16 variables:\n",
            " $ Invoice.ID             : chr  \"750-67-8428\" \"226-31-3081\" \"631-41-3108\" \"123-19-1176\" ...\n",
            " $ Branch                 : chr  \"A\" \"C\" \"A\" \"A\" ...\n",
            " $ Customer.type          : chr  \"Member\" \"Normal\" \"Normal\" \"Member\" ...\n",
            " $ Gender                 : chr  \"Female\" \"Female\" \"Male\" \"Male\" ...\n",
            " $ Product.line           : chr  \"Health and beauty\" \"Electronic accessories\" \"Home and lifestyle\" \"Health and beauty\" ...\n",
            " $ Unit.price             : num  74.7 15.3 46.3 58.2 86.3 ...\n",
            " $ Quantity               : int  7 5 7 8 7 7 6 10 2 3 ...\n",
            " $ Tax                    : num  26.14 3.82 16.22 23.29 30.21 ...\n",
            " $ Date                   : chr  \"1/5/2019\" \"3/8/2019\" \"3/3/2019\" \"1/27/2019\" ...\n",
            " $ Time                   : chr  \"13:08\" \"10:29\" \"13:23\" \"20:33\" ...\n",
            " $ Payment                : chr  \"Ewallet\" \"Cash\" \"Credit card\" \"Ewallet\" ...\n",
            " $ cogs                   : num  522.8 76.4 324.3 465.8 604.2 ...\n",
            " $ gross.margin.percentage: num  4.76 4.76 4.76 4.76 4.76 ...\n",
            " $ gross.income           : num  26.14 3.82 16.22 23.29 30.21 ...\n",
            " $ Rating                 : num  9.1 9.6 7.4 8.4 5.3 4.1 5.8 8 7.2 5.9 ...\n",
            " $ Total                  : num  549 80.2 340.5 489 634.4 ...\n"
          ],
          "name": "stdout"
        }
      ]
    },
    {
      "cell_type": "code",
      "metadata": {
        "id": "ACESxAmJmadC",
        "outputId": "3ea6fbd4-5fa1-4ac6-9aef-65308c59cb57",
        "colab": {
          "base_uri": "https://localhost:8080/"
        }
      },
      "source": [
        "%%R\n",
        "#Dropping the invoice column as it is irrelevant in our analysis\n",
        "df <- Sales_Dataset[,-1]\n",
        "\n",
        "head(df)\n",
        "\n"
      ],
      "execution_count": 26,
      "outputs": [
        {
          "output_type": "stream",
          "text": [
            "  Branch Customer.type Gender           Product.line Unit.price Quantity\n",
            "1      A        Member Female      Health and beauty      74.69        7\n",
            "2      C        Normal Female Electronic accessories      15.28        5\n",
            "3      A        Normal   Male     Home and lifestyle      46.33        7\n",
            "4      A        Member   Male      Health and beauty      58.22        8\n",
            "5      A        Normal   Male      Sports and travel      86.31        7\n",
            "6      C        Normal   Male Electronic accessories      85.39        7\n",
            "      Tax      Date  Time     Payment   cogs gross.margin.percentage\n",
            "1 26.1415  1/5/2019 13:08     Ewallet 522.83                4.761905\n",
            "2  3.8200  3/8/2019 10:29        Cash  76.40                4.761905\n",
            "3 16.2155  3/3/2019 13:23 Credit card 324.31                4.761905\n",
            "4 23.2880 1/27/2019 20:33     Ewallet 465.76                4.761905\n",
            "5 30.2085  2/8/2019 10:37     Ewallet 604.17                4.761905\n",
            "6 29.8865 3/25/2019 18:30     Ewallet 597.73                4.761905\n",
            "  gross.income Rating    Total\n",
            "1      26.1415    9.1 548.9715\n",
            "2       3.8200    9.6  80.2200\n",
            "3      16.2155    7.4 340.5255\n",
            "4      23.2880    8.4 489.0480\n",
            "5      30.2085    5.3 634.3785\n",
            "6      29.8865    4.1 627.6165\n"
          ],
          "name": "stdout"
        }
      ]
    },
    {
      "cell_type": "code",
      "metadata": {
        "id": "OjWnwidYm95S",
        "outputId": "af4d8265-4185-4e36-a09a-00e8c71c1af1",
        "colab": {
          "base_uri": "https://localhost:8080/"
        }
      },
      "source": [
        "%%R\n",
        "#There is need to standardize the naming of the columns.\n",
        "lower <- function(x) {\n",
        "\n",
        "colnames(x) <- tolower(colnames(x))\n",
        "\n",
        "x\n",
        "\n",
        "}\n",
        "\n",
        "\n",
        "\n",
        "df <- lower(df)\n",
        "\n",
        "\n",
        "\n",
        "head(df)\n"
      ],
      "execution_count": 27,
      "outputs": [
        {
          "output_type": "stream",
          "text": [
            "  branch customer.type gender           product.line unit.price quantity\n",
            "1      A        Member Female      Health and beauty      74.69        7\n",
            "2      C        Normal Female Electronic accessories      15.28        5\n",
            "3      A        Normal   Male     Home and lifestyle      46.33        7\n",
            "4      A        Member   Male      Health and beauty      58.22        8\n",
            "5      A        Normal   Male      Sports and travel      86.31        7\n",
            "6      C        Normal   Male Electronic accessories      85.39        7\n",
            "      tax      date  time     payment   cogs gross.margin.percentage\n",
            "1 26.1415  1/5/2019 13:08     Ewallet 522.83                4.761905\n",
            "2  3.8200  3/8/2019 10:29        Cash  76.40                4.761905\n",
            "3 16.2155  3/3/2019 13:23 Credit card 324.31                4.761905\n",
            "4 23.2880 1/27/2019 20:33     Ewallet 465.76                4.761905\n",
            "5 30.2085  2/8/2019 10:37     Ewallet 604.17                4.761905\n",
            "6 29.8865 3/25/2019 18:30     Ewallet 597.73                4.761905\n",
            "  gross.income rating    total\n",
            "1      26.1415    9.1 548.9715\n",
            "2       3.8200    9.6  80.2200\n",
            "3      16.2155    7.4 340.5255\n",
            "4      23.2880    8.4 489.0480\n",
            "5      30.2085    5.3 634.3785\n",
            "6      29.8865    4.1 627.6165\n"
          ],
          "name": "stdout"
        }
      ]
    },
    {
      "cell_type": "code",
      "metadata": {
        "id": "CZvU4WY4y1HL",
        "outputId": "855fc8b5-cb3c-4502-bcb3-a4e3a1743678",
        "colab": {
          "base_uri": "https://localhost:8080/"
        }
      },
      "source": [
        "#Checking the frequency of the categorical variables\n",
        "%%R\n",
        "print(table(Sales_Dataset$Branch))\n",
        "print(table(Sales_Dataset$Customer.type))\n",
        "print(table(Sales_Dataset$Gender))\n",
        "print(table(Sales_Dataset$Product.line))\n",
        "print(table(Sales_Dataset$Payment))\n",
        "\n"
      ],
      "execution_count": 28,
      "outputs": [
        {
          "output_type": "stream",
          "text": [
            "\n",
            "  A   B   C \n",
            "340 332 328 \n",
            "\n",
            "Member Normal \n",
            "   501    499 \n",
            "\n",
            "Female   Male \n",
            "   501    499 \n",
            "\n",
            "Electronic accessories    Fashion accessories     Food and beverages \n",
            "                   170                    178                    174 \n",
            "     Health and beauty     Home and lifestyle      Sports and travel \n",
            "                   152                    160                    166 \n",
            "\n",
            "       Cash Credit card     Ewallet \n",
            "        344         311         345 \n"
          ],
          "name": "stdout"
        }
      ]
    },
    {
      "cell_type": "code",
      "metadata": {
        "id": "h_MfDLIKwd40",
        "outputId": "63ebec95-3d4f-4dfc-a6b4-720b56601817",
        "colab": {
          "base_uri": "https://localhost:8080/"
        }
      },
      "source": [
        "#Converting Categorical columns into factors\n",
        "%%R\n",
        "library(dplyr)\n",
        "df1 <- mutate_at(df, vars(Branch, Customer.type,Gender,Product.line,Payment), as.factor)\n",
        "str(df1)\n"
      ],
      "execution_count": 29,
      "outputs": [
        {
          "output_type": "stream",
          "text": [
            "R[write to console]: Error: \n",
            "R[write to console]: \n",
            "R[write to console]: Can't subset columns that don't exist.\n",
            "✖ Column `Branch` doesn't exist.\n",
            "R[write to console]: \n",
            "R[write to console]: \n",
            "\n",
            "R[write to console]: Backtrace:\n",
            "     █\n",
            "  1. ├─(function (expr, envir = parent.frame(), enclos = if (is.list(envir) || ...\n",
            "  2. │ └─(function (expr, envir = parent.frame(), enclos = if (is.list(envir) || ...\n",
            "  3. ├─base::withVisible(...)\n",
            "  4. └─dplyr::mutate_at(...)\n",
            "  5.   └─dplyr:::manip_at(...)\n",
            "  6.     └─dplyr:::tbl_at_syms(.tbl, .vars, .include_group_vars = .include_group_vars)\n",
            "  7.       └─dplyr:::tbl_at_vars(tbl, vars, .include_group_vars = .include_group_vars)\n",
            "  8.         └─tidyselect::vars_select(tibble_vars, !!!vars)\n",
            "  9.           └─tidyselect:::eval_select_impl(...)\n",
            " 10.             ├─tidyselect:::with_subscript_errors(...)\n",
            " 11.             │ ├─base::tryCatch(...)\n",
            " 12.             │ │ └─base:::tryCatchList(expr, classes, parentenv, handlers)\n",
            " 13.             │ │   └─base:::tryCatchOne(expr, names, parentenv, handlers[[1L]])\n",
            " 14.             │ │     └─base:::doTryCatch(return(expr), name, parentenv, handler)\n",
            " 15.             │ └─tidyselect:::instrument_base_errors(expr)\n",
            " 16.             │   └─base::withCallingHandlers(...)\n",
            " 17.             └─tidyselect:::vars_select_eval(...)\n",
            " 18.               └─tidyselect:::walk_data_tree(expr, data_mask, context_mask)\n",
            " 19.                 └─tidyselect:::eval_c(expr, data_mask, context_mask)\n",
            " 20.                   └─tidyselect:::reduce_sels(node, data_mask, context_mask, init = init)\n",
            " 21.                     └─tidyselect:::walk_data_tree(new, data_mask, context_mask)\n",
            " 22.                       └─tidyselect:::as_indices_sel_impl(...)\n",
            " 23.                         └─tidyselect:::as_indices_impl(x, vars, strict = strict)\n",
            " 24.                           └─tidyselect:::chr_as_locations(x, vars)\n",
            " 25.                             └─vctrs::vec_as_location(x, n = length(vars), names = vars)\n",
            " 26.                               └─(function () ...\n",
            " 27.                                 └─vctrs:::stop_subscript_oob(...)\n",
            " 28.                                   └─vctrs:::stop_subscript(...)\n",
            "R[write to console]: \n",
            "R[write to console]: \n",
            "\n"
          ],
          "name": "stderr"
        },
        {
          "output_type": "stream",
          "text": [
            "\n",
            "Error: Can't subset columns that don't exist.\n",
            "✖ Column `Branch` doesn't exist.\n"
          ],
          "name": "stdout"
        }
      ]
    },
    {
      "cell_type": "code",
      "metadata": {
        "id": "4xuFNu09zFwW",
        "outputId": "a1c7c895-f5d5-40c7-c8e1-a4083fd298af",
        "colab": {
          "base_uri": "https://localhost:8080/"
        }
      },
      "source": [
        "# checking for missing data\n",
        "%%R\n",
        "colSums(is.na(df))\n",
        "#There are no missing values"
      ],
      "execution_count": 36,
      "outputs": [
        {
          "output_type": "stream",
          "text": [
            "                 branch           customer.type                  gender \n",
            "                      0                       0                       0 \n",
            "           product.line              unit.price                quantity \n",
            "                      0                       0                       0 \n",
            "                    tax                    date                    time \n",
            "                      0                       0                       0 \n",
            "                payment                    cogs gross.margin.percentage \n",
            "                      0                       0                       0 \n",
            "           gross.income                  rating                   total \n",
            "                      0                       0                       0 \n"
          ],
          "name": "stdout"
        }
      ]
    },
    {
      "cell_type": "code",
      "metadata": {
        "id": "Xy7yw3gMzQOn",
        "outputId": "2ed706b1-7ae1-4d07-fd8d-881f48306075",
        "colab": {
          "base_uri": "https://localhost:8080/",
          "height": 1000
        }
      },
      "source": [
        "# Check for outliers\n",
        "%%R\n",
        "cols <- df[, c(5,6,7,11,12,13,14,15)]\n",
        "\n",
        "outliers = function(x){\n",
        "\n",
        "for(i in colnames(x)){\n",
        "\n",
        "boxplot(df[[i]], xlab=i, main=paste0(\"Boxplot for \",i))\n",
        "\n",
        "}\n",
        "\n",
        "}\n",
        "outliers(cols)\n",
        "#There are no outliers in the data\n",
        "\n"
      ],
      "execution_count": 37,
      "outputs": [
        {
          "output_type": "display_data",
          "data": {
            "image/png": "[encoded data removed]"
          },
          "metadata": {
            "tags": []
          }
        },
        {
          "output_type": "display_data",
          "data": {
            "image/png": "[encoded data removed]"
          },
          "metadata": {
            "tags": []
          }
        },
        {
          "output_type": "display_data",
          "data": {
            "image/png": "[encoded data removed]"
          },
          "metadata": {
            "tags": []
          }
        },
        {
          "output_type": "display_data",
          "data": {
            "image/png": "[encoded data removed]"
          },
          "metadata": {
            "tags": []
          }
        },
        {
          "output_type": "display_data",
          "data": {
            "image/png": "[encoded data removed]"
          },
          "metadata": {
            "tags": []
          }
        },
        {
          "output_type": "display_data",
          "data": {
            "image/png": "[encoded data removed]"
          },
          "metadata": {
            "tags": []
          }
        },
        {
          "output_type": "display_data",
          "data": {
            "image/png": "[encoded data removed]"
          },
          "metadata": {
            "tags": []
          }
        },
        {
          "output_type": "display_data",
          "data": {
            "image/png": "[encoded data removed]"
          },
          "metadata": {
            "tags": []
          }
        }
      ]
    },
    {
      "cell_type": "code",
      "metadata": {
        "id": "QfK30h5Wz-eR"
      },
      "source": [
        "#To deal with the outliers we will replace them with the 95th and 5th percentile\n",
        "\n",
        "%%R\n",
        "outlier_replace <- function(x){\n",
        "\n",
        "qnt <- quantile(x, probs=c(.25, .75), na.rm = T)\n",
        "\n",
        "caps <- quantile(x, probs=c(.05, .95), na.rm = T)\n",
        "\n",
        "H <- 1.5 * IQR(x, na.rm = T)\n",
        "\n",
        "x[x < (qnt[1] - H)] <- caps[1]\n",
        "\n",
        "x[x > (qnt[2] + H)] <- caps[2]\n",
        "\n",
        "return(x)\n",
        "}\n",
        "\n",
        "df1$gross.income <- outlier_replace(df1$gross.income)\n",
        "\n",
        "df1$total <- outlier_replace(df1$total)\n",
        "\n",
        "df1$tax <-outlier_replace(df1$tax)\n",
        "\n",
        "df1$cogs <- outlier_replace(df1$cogs)\n",
        "\n",
        "\n",
        "\n",
        "\n",
        "outliers(cols)\n"
      ],
      "execution_count": null,
      "outputs": []
    },
    {
      "cell_type": "markdown",
      "metadata": {
        "id": "dO4zVxCh1AxQ"
      },
      "source": [
        "# Univariate Analysis"
      ]
    },
    {
      "cell_type": "markdown",
      "metadata": {
        "id": "Ae3bhRCisC4z"
      },
      "source": [
        "# 1.Numeric Data"
      ]
    },
    {
      "cell_type": "code",
      "metadata": {
        "id": "4O-i_Kg9sIJT"
      },
      "source": [
        "%%R\n",
        "library(Hmisc)\n",
        "\n",
        "describe(num_col)\n"
      ],
      "execution_count": null,
      "outputs": []
    },
    {
      "cell_type": "code",
      "metadata": {
        "id": "oN_5ZZ85sOAm"
      },
      "source": [
        "%%R\n",
        "histogram = function(x){\n",
        "\n",
        "for(i in colnames(x)){\n",
        "\n",
        "hist(df[[i]], breaks = 10,main =i,xlab = i,col = \"dodgerblue\")\n",
        "\n",
        "}\n",
        "\n",
        "}\n",
        "\n",
        "\n",
        "\n",
        "histogram(num_col)\n"
      ],
      "execution_count": null,
      "outputs": []
    },
    {
      "cell_type": "markdown",
      "metadata": {
        "id": "Yhios8KHsUsp"
      },
      "source": [
        "# 2. Categorical"
      ]
    },
    {
      "cell_type": "code",
      "metadata": {
        "id": "TDHiph_LsXH5"
      },
      "source": [
        "library(ggplot2)"
      ],
      "execution_count": null,
      "outputs": []
    },
    {
      "cell_type": "code",
      "metadata": {
        "id": "HuirKkqhseon"
      },
      "source": [
        "# Customer Type\n",
        "%%R\n",
        "customer_type <- ggplot(df ,aes(x=customer.type , fill=customer.type)) + geom_bar() + labs(title = \"Distribution of the Customer Types\", x=\"Customer Type\")\n",
        "\n",
        "customer_type +scale_fill_discrete(name = \"Customer Type\") \n"
      ],
      "execution_count": null,
      "outputs": []
    },
    {
      "cell_type": "code",
      "metadata": {
        "id": "tZcDzjLhshit"
      },
      "source": [
        "%%R\n",
        "bran <- ggplot(df, aes(x=branch, fill=branch)) + geom_bar()+labs(title = \"Distribution of Branches\", x=\"Branches\")+scale_fill_discrete(name = \"Branch\") \n",
        "\n",
        "bran\n"
      ],
      "execution_count": null,
      "outputs": []
    },
    {
      "cell_type": "code",
      "metadata": {
        "id": "UdaZfQtyskkL"
      },
      "source": [
        "%%R\n",
        "gender1 <- ggplot(df, aes(x=gender, fill=gender)) + geom_bar()+labs(title = \"Distribution of Gender\", x=\"Gender\")+scale_fill_discrete(name = \"Gender\") \n",
        "\n",
        "gender1\n"
      ],
      "execution_count": null,
      "outputs": []
    },
    {
      "cell_type": "code",
      "metadata": {
        "id": "WGvBMFNqsnG6"
      },
      "source": [
        "# Types Product Line\n",
        "%%R\n",
        "product_line <- ggplot(df,aes(x=product.line, fill=product.line))+ geom_bar()+ labs(title = \"Distribution of Product Line\", x=\"Product Line\")+ scale_fill_discrete(name = \"Product Line\")\n",
        "\n",
        "product_line + theme(axis.title.x=element_blank(),\n",
        "\n",
        "axis.text.x=element_blank(),\n",
        "\n",
        "axis.ticks.x=element_blank())\n"
      ],
      "execution_count": null,
      "outputs": []
    },
    {
      "cell_type": "code",
      "metadata": {
        "id": "PPoksElYsrW3"
      },
      "source": [
        "# Types Payments\n",
        "%%R\n",
        "payment_meth <- ggplot(df, aes(x=payment, fill=payment)) + geom_bar()+labs(title = \"Distribution of Payments\", x=\"Payment\")+scale_fill_discrete(name = \"Payment\") \n",
        "\n",
        "payment_meth\n"
      ],
      "execution_count": null,
      "outputs": []
    },
    {
      "cell_type": "code",
      "metadata": {
        "id": "VBUh_I8Jst5g"
      },
      "source": [
        "# Which Product line was bought more in terms of quantity per branch\n",
        "%%R\n",
        "product_line1 <- ggplot(df,aes(x=product.line,y=quantity,fill=product.line))+geom_bar(stat = \"identity\")+ facet_wrap(~branch, scales = \"free\") + labs(title = \"Total Quantity of each Product Line\", subtitle = \"[per Branch]\",x=\"Product Line\", y=\"Total Quantity\") + scale_fill_discrete(name = \"Product Line\") + theme(axis.title.x=element_blank(),\n",
        "\n",
        "axis.text.x=element_blank(),\n",
        "\n",
        "axis.ticks.x=element_blank())\n",
        "product_line1\n"
      ],
      "execution_count": null,
      "outputs": []
    },
    {
      "cell_type": "code",
      "metadata": {
        "id": "qeJf2AOasyve"
      },
      "source": [
        "# Customer Type per Branch\n",
        "%%R\n",
        "customer_type1 <- ggplot(df, aes(x=branch, fill=customer.type)) + geom_bar(position = \"dodge\")+labs(title = \"Distribution of Customer Type per Branch\", x=\"Payment\")+scale_fill_discrete(name = \" Customer Type\") \n",
        "\n",
        "customer_type1\n"
      ],
      "execution_count": null,
      "outputs": []
    },
    {
      "cell_type": "code",
      "metadata": {
        "id": "cI2tOc9us9g_"
      },
      "source": [
        "# Gender per Branch\n",
        "%%R\n",
        "gender2 <- ggplot(df, aes(x=branch, fill=gender)) + geom_bar(position = \"dodge\")+labs(title = \"Distribution of Gender per Branch\", x=\"Branch\")+scale_fill_discrete(name = \"Gender\") \n",
        "\n",
        "gender2\n"
      ],
      "execution_count": null,
      "outputs": []
    },
    {
      "cell_type": "code",
      "metadata": {
        "id": "dGdnyGBGtAJy"
      },
      "source": [
        "# Mode of Payment per Branch\n",
        "%%R\n",
        "payment_meth1 <- ggplot(df, aes(x=branch, fill=payment)) + geom_bar(position = \"dodge\")+labs(title = \"Distribution of Payment Mode per Branch\", x=\"Branch\")+scale_fill_discrete(name = \"Payment\") \n",
        "\n",
        "payment_meth1\n"
      ],
      "execution_count": null,
      "outputs": []
    },
    {
      "cell_type": "code",
      "metadata": {
        "id": "2E2xJeW_tEOE"
      },
      "source": [
        "# Customer Type and Mode of Payment\n",
        "%%R\n",
        "customer_type2 <- ggplot(df, aes(x=customer.type, fill=payment)) + geom_bar(position = \"dodge\")+labs(title = \"Customer Type and Mode of Payment\", x=\"Customer Type\")+scale_fill_discrete(name = \"Mode of Payment\") \n",
        "\n",
        "customer_type2\n"
      ],
      "execution_count": null,
      "outputs": []
    },
    {
      "cell_type": "code",
      "metadata": {
        "id": "KR44SN5dtGtA"
      },
      "source": [
        "# Customer Type and Product Line\n",
        "%%R\n",
        "product_line2 <- ggplot(df, aes(x=product.line, fill=customer.type)) + geom_bar(position = \"dodge\")+labs(title = \"Distribution of Product Line for Each Customer Type\", x=\"Product Line\")+scale_fill_discrete(name = \"Customer Type\") \n",
        "\n",
        "product_line2 +theme(axis.text.x = element_text(angle = 30, hjust=0.8))\n",
        "\n"
      ],
      "execution_count": null,
      "outputs": []
    },
    {
      "cell_type": "code",
      "metadata": {
        "id": "kdjqyla4tKc8"
      },
      "source": [
        "# Product Line vs Gender\n",
        "%%R\n",
        "product_line3 <- ggplot(df, aes(x=product.line, fill=gender)) + geom_bar(position = \"dodge\")+labs(title = \"Distribution of Product Line in Each Gender\", x=\"Product Line\")+scale_fill_discrete(name = \"Gender\") \n",
        "\n",
        "product_line3 +theme(axis.text.x = element_text(angle = 30, hjust=0.8))\n"
      ],
      "execution_count": null,
      "outputs": []
    },
    {
      "cell_type": "markdown",
      "metadata": {
        "id": "CBAOkVXBtOab"
      },
      "source": [
        "# Bivariate"
      ]
    },
    {
      "cell_type": "code",
      "metadata": {
        "id": "rpImL5WGuBv5"
      },
      "source": [
        "# Total Sales for Each Product Line\n",
        "%%R\n",
        "by_sale <- df %>%\n",
        "\n",
        "group_by(product.line) %>%\n",
        "\n",
        "summarise(total = sum(total))\n"
      ],
      "execution_count": null,
      "outputs": []
    },
    {
      "cell_type": "code",
      "metadata": {
        "id": "2eUzmT2ZtQng"
      },
      "source": [
        "# Label Encode Categorical Variables\n",
        "%%R\n",
        "encode_ordinal <- function(x, order = unique(x)) {\n",
        "\n",
        "x <- as.numeric(factor(x, levels = order, exclude = NULL))\n",
        "\n",
        "x\n",
        "\n",
        "}\n",
        "\n",
        "table(df$branch, encode_ordinal(df$branch))\n",
        "\n",
        "table(df$customer.type,encode_ordinal(df$customer.type))\n",
        "\n",
        "table(df$gender, encode_ordinal(df$gender))\n",
        "\n",
        "table(df$product.line, encode_ordinal(df$product.line))\n",
        "\n",
        "table(df$payment, encode_ordinal(df$payment))\n",
        "\n",
        "\n",
        "\n",
        "df$branch_enc <- encode_ordinal(df$branch)\n",
        "\n",
        "df$customer.type_enc <- encode_ordinal(df$customer.type)\n",
        "\n",
        "df$gender_enc <- encode_ordinal(df$gender)\n",
        "\n",
        "df$product.line_enc <- encode_ordinal(df$product.line)\n",
        "\n",
        "df$payment_enc <- encode_ordinal(df$payment)\n",
        "\n",
        "\n",
        "\n",
        "head(df)\n",
        "\n",
        "```\n"
      ],
      "execution_count": null,
      "outputs": []
    },
    {
      "cell_type": "code",
      "metadata": {
        "id": "-EvpkdLQtdaJ"
      },
      "source": [
        "# the correlation matrix\n",
        "%%R\n",
        "feat <- df[, c(-1,-2,-3,-4,-8,-9,-10,-12)]\n",
        "\n",
        "#head(feat)\n",
        "\n",
        "\n",
        "\n",
        "correlation_matrix <- cor(feat)\n",
        "\n",
        "library(corrplot)\n",
        "\n",
        "corr_data <- as.data.frame(correlation_matrix)\n",
        "\n",
        "corr_data\n",
        "\n",
        "\n",
        "\n",
        "corr <- corrplot(correlation_matrix, method = \"shade\",order = \"hclust\", col=colorRampPalette(c(\"yellow\",\"green\",\"navyblue\"))(100), addgrid.col=\"gray\", tl.col = \"black\", tl.cex = 0.7,tl.srt = 45)\n"
      ],
      "execution_count": null,
      "outputs": []
    },
    {
      "cell_type": "code",
      "metadata": {
        "id": "ZKoAmnlBthCD"
      },
      "source": [
        "%%R\n",
        "by_rate <- df %>%\n",
        "\n",
        "group_by(branch) %>%\n",
        "\n",
        "summarise(rate = mean(rating))\n",
        "\n",
        "\n",
        "\n",
        "rate <- ggplot(by_rate, aes(x=branch, y= rate, fill=branch))+geom_bar(stat = \"identity\")+ labs(title = \"Average Rating Per Branch\", x=\"Branch\",y=\"Average Rating\")\n",
        "\n",
        "rate + scale_fill_brewer(palette=\"Set1\")+theme(legend.position = \"none\") \n"
      ],
      "execution_count": null,
      "outputs": []
    },
    {
      "cell_type": "code",
      "metadata": {
        "id": "Pb_Em_WCt0hW"
      },
      "source": [
        "# Product Line with Highest Gross Income\n",
        "%%R\n",
        "by_gross <- df %>%\n",
        "\n",
        "group_by(product.line) %>%\n",
        "\n",
        "summarise(gross = sum(gross.income))\n"
      ],
      "execution_count": null,
      "outputs": []
    },
    {
      "cell_type": "code",
      "metadata": {
        "id": "IRYtJPyUt4_Q"
      },
      "source": [
        "%%R\n",
        "gross_inc <- ggplot(by_gross, aes(x=product.line, y= gross, fill=product.line))+geom_bar(stat = \"identity\")+ labs(title = \"Product Line vs Gross Income\", x=\"Product Line\",y=\"Total Gross Income\")\n",
        "\n",
        "gross_inc + scale_fill_brewer(name=\"Product Line\",palette=\"Set1\")+theme(axis.title.x=element_blank(),\n",
        "\n",
        "axis.text.x=element_blank(),\n",
        "\n",
        "axis.ticks.x=element_blank())\n",
        "\n"
      ],
      "execution_count": null,
      "outputs": []
    },
    {
      "cell_type": "code",
      "metadata": {
        "id": "JAXZCHfJt8Bp"
      },
      "source": [
        "%%R\n",
        "total_sale <- ggplot(by_sale, aes(x=product.line, y= total, fill=product.line))+geom_bar(stat = \"identity\")+ labs(title = \"Total Sales from Each Product Line\", x=\"Product Line\",y=\"Total Sales\")\n",
        "\n",
        "total_sale + scale_fill_brewer(name=\"Product Line\",palette=\"Set1\")+theme(axis.title.x=element_blank(),\n",
        "\n",
        "axis.text.x=element_blank(),\n",
        "\n",
        "axis.ticks.x=element_blank())\n"
      ],
      "execution_count": null,
      "outputs": []
    },
    {
      "cell_type": "code",
      "metadata": {
        "id": "fXVKyaEvuHxW"
      },
      "source": [
        "%%R\n",
        "by_cust <- df %>%\n",
        "\n",
        "group_by(customer.type) %>%\n",
        "\n",
        "summarise(gross = sum(gross.income))\n",
        "\n",
        "\n",
        "\n",
        "cust_type <- ggplot(by_cust, aes(x=customer.type, y= gross, fill=customer.type))+geom_bar(stat = \"identity\")+ labs(title = \" Total Gross Income per Customer Type\", x=\"Customer Type\",y=\"Total Gross Income\")\n",
        "\n",
        "cust_type + scale_fill_brewer( name= \"Customer Type\",palette=\"Set1\")+theme(axis.title.x=element_blank(),\n",
        "\n",
        "axis.text.x=element_blank(),\n",
        "\n",
        "axis.ticks.x=element_blank())\n"
      ],
      "execution_count": null,
      "outputs": []
    },
    {
      "cell_type": "code",
      "metadata": {
        "id": "oFWdK0ZOuN6v"
      },
      "source": [
        "# Branch with the Highest Gross Income\n",
        "%%R\n",
        "\n",
        "by_branch <- df %>%\n",
        "\n",
        "group_by(branch) %>%\n",
        "\n",
        "summarise(gross = sum(gross.income))\n",
        "\n",
        "\n",
        "\n",
        "branch_gross <- ggplot(by_branch, aes(x=branch, y= gross, fill=branch))+geom_bar(stat = \"identity\")+ labs(title = \" Total Gross Income per Branch\", x=\"Branch\",y=\"Total Gross Income\")\n",
        "\n",
        "branch_gross + scale_fill_brewer(name=\"Branch\",palette=\"Set1\")+theme(\n",
        "\n",
        "axis.title.x=element_blank(),\n",
        "\n",
        "axis.text.x=element_blank(),\n",
        "\n",
        "axis.ticks.x=element_blank())\n"
      ],
      "execution_count": null,
      "outputs": []
    },
    {
      "cell_type": "code",
      "metadata": {
        "id": "aHh0hjXVuRcz"
      },
      "source": [
        "# Monthly Gross Income\n",
        "\n",
        "%%R\n",
        "\n",
        "sales_new$date <- as.Date(df$date, format = \"%m/%d/%Y\")\n",
        "\n",
        "\n",
        "\n",
        "by_date <- df %>%\n",
        "\n",
        "group_by(date, branch) %>%\n",
        "\n",
        "summarise(gross = sum(gross.income))\n",
        "\n",
        "\n",
        "\n",
        "\n",
        "\n",
        "month_gross <- ggplot(by_date, aes(x=date, y=gross)) +geom_line(color=\"blue\") + labs(title = \" Monthly Total Gross Income per Branch\", x=\"\",y=\"Total Gross Income\")+facet_wrap(~branch, scales = \"free_x\", ncol=2)\n",
        "\n",
        "month_gross\n"
      ],
      "execution_count": null,
      "outputs": []
    },
    {
      "cell_type": "markdown",
      "metadata": {
        "id": "ndUibTEVuZyv"
      },
      "source": [
        "### Scatter Plots"
      ]
    },
    {
      "cell_type": "code",
      "metadata": {
        "id": "gvBb620UueQg",
        "outputId": "189efcf1-4aae-45ab-f904-1941c082a973",
        "colab": {
          "base_uri": "https://localhost:8080/",
          "height": 497
        }
      },
      "source": [
        "%%R\n",
        "plot(df$total, df$rating, main = \"Total Sales vs. Rating\", xlab = \"Total Sales\", ylab = \"Rating\")\n",
        "\n",
        "\n"
      ],
      "execution_count": 39,
      "outputs": [
        {
          "output_type": "display_data",
          "data": {
            "image/png": "[encoded data removed]"
          },
          "metadata": {
            "tags": []
          }
        }
      ]
    },
    {
      "cell_type": "code",
      "metadata": {
        "id": "zR2kTpM5ulU3",
        "outputId": "b69f35cd-fc7d-4926-c78e-bf5ecdc3f09a",
        "colab": {
          "base_uri": "https://localhost:8080/",
          "height": 497
        }
      },
      "source": [
        "%%R\n",
        "plot(df$total, df$gross.income, main = \"Total Sales vs. Gross Income \", xlab = \"Total Sales\", ylab = \"Gross Income\")\n",
        "\n"
      ],
      "execution_count": 40,
      "outputs": [
        {
          "output_type": "display_data",
          "data": {
            "image/png": "[encoded data removed]"
          },
          "metadata": {
            "tags": []
          }
        }
      ]
    },
    {
      "cell_type": "code",
      "metadata": {
        "id": "YToIQtKkuo0k",
        "outputId": "7eeb2c9c-6646-4543-811d-86da9f2a279f",
        "colab": {
          "base_uri": "https://localhost:8080/",
          "height": 497
        }
      },
      "source": [
        "%%R\n",
        "plot(df$gross.income, df$cogs, main = \"Relationship between COGS and Gross Income\", xlab=\"Gross Income\", ylab=\"COGS\")\n"
      ],
      "execution_count": 41,
      "outputs": [
        {
          "output_type": "display_data",
          "data": {
            "image/png": "[encoded data removed]"
          },
          "metadata": {
            "tags": []
          }
        }
      ]
    },
    {
      "cell_type": "markdown",
      "metadata": {
        "id": "d4R59_tQuzvr"
      },
      "source": [
        "# Dimension Reduction"
      ]
    },
    {
      "cell_type": "code",
      "metadata": {
        "id": "DRHEXlMTu3ts",
        "outputId": "d3b78a33-d646-458f-8c6d-0fa19d8fc251",
        "colab": {
          "base_uri": "https://localhost:8080/"
        }
      },
      "source": [
        "%%R\n",
        "predictors <- df[, c(-1,-2,-3,-4,-8,-9,-10,-12,-15)]\n",
        "\n",
        "\n",
        "\n",
        "sales.pca <- prcomp(predictors, scale. = TRUE, center = TRUE)\n",
        "\n",
        "summary(sales.pca)\n"
      ],
      "execution_count": 43,
      "outputs": [
        {
          "output_type": "stream",
          "text": [
            "Importance of components:\n",
            "                          PC1    PC2    PC3    PC4       PC5       PC6\n",
            "Standard deviation     1.9817 1.0002 0.9939 0.2909 2.293e-16 1.124e-16\n",
            "Proportion of Variance 0.6545 0.1667 0.1646 0.0141 0.000e+00 0.000e+00\n",
            "Cumulative Proportion  0.6545 0.8213 0.9859 1.0000 1.000e+00 1.000e+00\n"
          ],
          "name": "stdout"
        }
      ]
    },
    {
      "cell_type": "code",
      "metadata": {
        "id": "mz-DibAjDQzK",
        "outputId": "ae665b38-b2ef-48d6-ac4a-bd587147658a",
        "colab": {
          "base_uri": "https://localhost:8080/"
        }
      },
      "source": [
        "%%R\n",
        "label <- df[, \"total\"]\n",
        "\n",
        "\n",
        "\n",
        "library(ggbiplot)\n",
        "\n",
        "ggbiplot(sales.pca, obs.scale = 1.2,var.scale=1.3)\n",
        "\n",
        "ggbiplot(sales.pca, choices = c(3,4) ,obs.scale = 1.2, var.scale = 1.3)\n",
        "\n"
      ],
      "execution_count": 45,
      "outputs": [
        {
          "output_type": "stream",
          "text": [
            "R[write to console]: Error in library(ggbiplot) : there is no package called ‘ggbiplot’\n",
            "Calls: <Anonymous> -> <Anonymous> -> withVisible -> library\n",
            "\n"
          ],
          "name": "stderr"
        },
        {
          "output_type": "stream",
          "text": [
            "\n",
            "Error in library(ggbiplot) : there is no package called ‘ggbiplot’\n",
            "Calls: <Anonymous> -> <Anonymous> -> withVisible -> library\n"
          ],
          "name": "stdout"
        }
      ]
    },
    {
      "cell_type": "markdown",
      "metadata": {
        "id": "OUW1C7uUvDxV"
      },
      "source": [
        "## Feature Selection"
      ]
    },
    {
      "cell_type": "markdown",
      "metadata": {
        "id": "TyuWsikEvQXj"
      },
      "source": [
        "### 1. Filter Method"
      ]
    },
    {
      "cell_type": "code",
      "metadata": {
        "id": "lnaUufBpuVBw",
        "outputId": "b0b76cdd-7f6e-4ad8-a7d7-2e6c7914d11b",
        "colab": {
          "base_uri": "https://localhost:8080/"
        }
      },
      "source": [
        "## Feature Selection\n",
        "\n",
        "%%R\n",
        "library(caret)\n",
        "\n",
        "\n",
        "\n",
        "correlation = cor(predictors)\n",
        "\n",
        "\n",
        "\n",
        "highly <- findCorrelation(correlation, cutoff = 0.75)\n",
        "\n",
        "# highly correlated variables\n",
        "\n",
        "names(predictors[,highly])\n",
        "\n",
        "\n",
        "\n",
        "# Dataset without the Highly Correlated\n",
        "\n",
        "sales_new1 <- predictors[-highly]\n",
        "\n",
        "\n",
        "\n",
        "#Plot\n",
        "\n",
        "par(mfrow = c(1, 2))\n",
        "\n",
        "corrplot(correlation, order = \"hclust\",tl.col = \"black\", tl.cex = 0.7)\n",
        "\n",
        "corrplot(cor(sales_new1), order = \"hclust\",tl.col = \"black\", tl.cex = 0.7)\n"
      ],
      "execution_count": 46,
      "outputs": [
        {
          "output_type": "stream",
          "text": [
            "R[write to console]: Error in library(caret) : there is no package called ‘caret’\n",
            "Calls: <Anonymous> -> <Anonymous> -> withVisible -> library\n",
            "\n"
          ],
          "name": "stderr"
        },
        {
          "output_type": "stream",
          "text": [
            "\n",
            "Error in library(caret) : there is no package called ‘caret’\n",
            "Calls: <Anonymous> -> <Anonymous> -> withVisible -> library\n"
          ],
          "name": "stdout"
        }
      ]
    },
    {
      "cell_type": "markdown",
      "metadata": {
        "id": "hepnbFP7vVuO"
      },
      "source": [
        "### 2.Wrapper Method"
      ]
    },
    {
      "cell_type": "code",
      "metadata": {
        "id": "lDZXFnVtvJuE"
      },
      "source": [
        "library(clustvarsel)\n",
        "\n",
        "library(mclust)\n",
        "\n",
        "%%R\n",
        "\n",
        "# perfectly correlated features\n",
        "\n",
        "\n",
        "\n",
        "predictors_corr <- predictors[,c(-3,-4,-5)]\n",
        "\n",
        "\n",
        "\n",
        "out = clustvarsel(predictors_corr, G=1:9)\n",
        "\n",
        "out\n"
      ],
      "execution_count": null,
      "outputs": []
    },
    {
      "cell_type": "code",
      "metadata": {
        "id": "PK2kBFmpvjAM"
      },
      "source": [
        "# Features selected\n",
        "%%R\n",
        "data <- predictors_corr[,out$subset]\n",
        "\n",
        "head(data)\n"
      ],
      "execution_count": null,
      "outputs": []
    },
    {
      "cell_type": "code",
      "metadata": {
        "id": "uEvCxTX8vmSZ"
      },
      "source": [
        "#Ranking of Features\n",
        "%%R\n",
        "library(FSelector)\n",
        "\n",
        "head(df)\n",
        "\n",
        "\n",
        "\n",
        "predictors1 <- df[, c(-1,-2,-3,-4,-7,-8,-9,-10,-11,-12,-13)]\n",
        "\n",
        "\n",
        "\n",
        "Scores <- linear.correlation(total~., predictors1)\n",
        "\n",
        "Scores\n",
        "\n"
      ],
      "execution_count": null,
      "outputs": []
    },
    {
      "cell_type": "code",
      "metadata": {
        "id": "S0dBBCHuvy2M"
      },
      "source": [
        "#Final Features\n",
        "%%R\n",
        "Subset <- cutoff.k(Scores, 5)\n",
        "\n",
        "as.data.frame(Subset)\n"
      ],
      "execution_count": null,
      "outputs": []
    },
    {
      "cell_type": "markdown",
      "metadata": {
        "id": "9rC4-aIRF4uE"
      },
      "source": [
        "# Feature Selection\n",
        "\n",
        "In Filter Methods with a cutoff at 0.7, the variables accepted were:\n",
        "\n",
        "\n",
        "\n",
        "1. Branch\n",
        "\n",
        "2. Customer Type\n",
        "\n",
        "3. Gender\n",
        "\n",
        "4. Product Line\n",
        "\n",
        "5. Payment\n",
        "\n",
        "6. Unit Price\n",
        "\n",
        "7. Quantity\n",
        "\n",
        "8. Gross Income\n",
        "\n",
        "9. Rating\n",
        "\n",
        "\n",
        "\n",
        "\n",
        "\n",
        "Excluding the Total column for it the Label column\n",
        "\n",
        "\n",
        "\n",
        "The Wrapper method selected, it excluded the perfectly correlated features and it returned\n",
        "\n",
        "\n",
        "\n",
        "1. Quantity\n",
        "\n",
        "2. Payment\n",
        "\n",
        "\n",
        "\n",
        "The Feature Ranking while excluding the perfectly correlated features were:\n",
        "\n",
        "\n",
        "\n",
        "1. Quantity\n",
        "\n",
        "2. Unit Price\n",
        "\n",
        "3. Gender\n",
        "\n",
        "4. Product Line\n",
        "\n",
        "5. Rating\n"
      ]
    }
  ]
}