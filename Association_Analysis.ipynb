{
  "nbformat": 4,
  "nbformat_minor": 0,
  "metadata": {
    "colab": {
      "name": "Association Analysis",
      "provenance": [],
      "authorship_tag": "ABX9TyPoY+OEhLt96tPu392gH2Na",
      "include_colab_link": true
    },
    "kernelspec": {
      "name": "ir",
      "display_name": "R"
    }
  },
  "cells": [
    {
      "cell_type": "markdown",
      "metadata": {
        "id": "view-in-github",
        "colab_type": "text"
      },
      "source": [
        "<a href=\"https://colab.research.google.com/github/GladwelWanjau/Week-14-IP/blob/main/Association_Analysis.ipynb\" target=\"_parent\"><img src=\"https://colab.research.google.com/assets/colab-badge.svg\" alt=\"Open In Colab\"/></a>"
      ]
    },
    {
      "cell_type": "markdown",
      "metadata": {
        "id": "EKmkJ43j51cP"
      },
      "source": [
        "# Understanding the Problem\n",
        "\n",
        "To help Carrefour in identifying the relationships between the Groups of Items in the data.\n",
        "\n",
        "\n"
      ]
    },
    {
      "cell_type": "markdown",
      "metadata": {
        "id": "sBqRXpU86C5Z"
      },
      "source": [
        "# Understanding the Context\n",
        "As a Data analyst at Carrefour Kenya and are currently undertaking a project that will inform the marketing department on the most relevant marketing strategies that will result in the highest no. of sales (total price including tax). Your project has been divided into four parts where you'll explore a recent marketing dataset by performing various unsupervised learning techniques and later providing recommendations based on your insights."
      ]
    },
    {
      "cell_type": "code",
      "metadata": {
        "id": "CuJm3qbiSBh7",
        "outputId": "7a9ff3a8-e1bd-4df9-a8a8-5c4d39f62c6b",
        "colab": {
          "base_uri": "https://localhost:8080/",
          "height": 1000
        }
      },
      "source": [
        "data<-read.csv('/content/Supermarket_Sales_Dataset II.csv',header = TRUE,\n",
        "                 sep = \",\",fileEncoding = \"UTF-8-BOM\")\n",
        "data"
      ],
      "execution_count": 7,
      "outputs": [
        {
          "output_type": "display_data",
          "data": {
            "text/plain": [
              "     shrimp            almonds           avocado           vegetables.mix  \n",
              "1    burgers           meatballs         eggs                              \n",
              "2    chutney                                                               \n",
              "3    turkey            avocado                                             \n",
              "4    mineral water     milk              energy bar        whole wheat rice\n",
              "5    low fat yogurt                                                        \n",
              "6    whole wheat pasta french fries                                        \n",
              "7    soup              light cream       shallot                           \n",
              "8    frozen vegetables spaghetti         green tea                         \n",
              "9    french fries                                                          \n",
              "10   eggs              pet food                                            \n",
              "11   cookies                                                               \n",
              "12   turkey            burgers           mineral water     eggs            \n",
              "13   spaghetti         champagne         cookies                           \n",
              "14   mineral water     salmon                                              \n",
              "15   mineral water                                                         \n",
              "16   shrimp            chocolate         chicken           honey           \n",
              "17   turkey            eggs                                                \n",
              "18   turkey            fresh tuna        tomatoes          spaghetti       \n",
              "19   meatballs         milk              honey             french fries    \n",
              "20   red wine          shrimp            pasta             pepper          \n",
              "21   rice              sparkling water                                     \n",
              "22   spaghetti         mineral water     ham               body spray      \n",
              "23   burgers           grated cheese     shrimp            pasta           \n",
              "24   eggs                                                                  \n",
              "25   parmesan cheese   spaghetti         soup              avocado         \n",
              "26   ground beef       spaghetti         mineral water     milk            \n",
              "27   sparkling water                                                       \n",
              "28   mineral water     eggs              chicken           chocolate       \n",
              "29   frozen vegetables spaghetti         yams              mineral water   \n",
              "30   herb & pepper     tomato sauce      light cream       magazines       \n",
              "⋮    ⋮                 ⋮                 ⋮                 ⋮               \n",
              "7471 mineral water     chocolate                                           \n",
              "7472 chocolate         grated cheese     mineral water     olive oil       \n",
              "7473 whole wheat rice  cake              cottage cheese                    \n",
              "7474 turkey            shrimp            pasta             mineral water   \n",
              "7475 turkey            mineral water     cooking oil       chocolate       \n",
              "7476 tomatoes          tomato sauce      spaghetti         mineral water   \n",
              "7477 tomato juice                                                          \n",
              "7478 turkey            ground beef       mineral water     chocolate       \n",
              "7479 shrimp            pasta             mineral water     olive oil       \n",
              "7480 frozen vegetables french wine       pancakes          french fries    \n",
              "7481 chocolate         shrimp            pasta             spaghetti       \n",
              "7482 chocolate                                                             \n",
              "7483 fresh tuna        parmesan cheese   whole wheat pasta french wine     \n",
              "7484 cookies           energy drink                                        \n",
              "7485 parmesan cheese   champagne         white wine                        \n",
              "7486 red wine          tomato sauce      spaghetti         chocolate       \n",
              "7487 soup              milk                                                \n",
              "7488 eggs              whole wheat rice                                    \n",
              "7489 brownies                                                              \n",
              "7490 herb & pepper     spaghetti         low fat yogurt                    \n",
              "7491 herb & pepper                                                         \n",
              "7492 chocolate         escalope                                            \n",
              "7493 burgers           salmon            pancakes          french fries    \n",
              "7494 turkey            burgers           dessert wine      shrimp          \n",
              "7495 pancakes          light mayo                                          \n",
              "7496 butter            light mayo        fresh bread                       \n",
              "7497 burgers           frozen vegetables eggs              french fries    \n",
              "7498 chicken                                                               \n",
              "7499 escalope          green tea                                           \n",
              "7500 eggs              frozen smoothie   yogurt cake       low fat yogurt  \n",
              "     green.grapes    whole.weat.flour yams             cottage.cheese \n",
              "1                                                                     \n",
              "2                                                                     \n",
              "3                                                                     \n",
              "4    green tea                                                        \n",
              "5                                                                     \n",
              "6                                                                     \n",
              "7                                                                     \n",
              "8                                                                     \n",
              "9                                                                     \n",
              "10                                                                    \n",
              "11                                                                    \n",
              "12   cooking oil                                                      \n",
              "13                                                                    \n",
              "14                                                                    \n",
              "15                                                                    \n",
              "16   oil             cooking oil      low fat yogurt                  \n",
              "17                                                                    \n",
              "18   mineral water   black tea        salmon           eggs           \n",
              "19   protein bar                                                      \n",
              "20   eggs            chocolate        shampoo                         \n",
              "21                                                                    \n",
              "22   pancakes        green tea                                        \n",
              "23   avocado         honey            white wine       toothpaste     \n",
              "24                                                                    \n",
              "25   milk            fresh bread                                      \n",
              "26   energy bar      black tea        salmon           frozen smoothie\n",
              "27                                                                    \n",
              "28   french fries                                                     \n",
              "29                                                                    \n",
              "30                                                                    \n",
              "⋮    ⋮               ⋮                ⋮                ⋮              \n",
              "7471                                                                  \n",
              "7472 green tea                                                        \n",
              "7473                                                                  \n",
              "7474 chocolate       milk             salmon           vegetables mix \n",
              "7475 french fries    protein bar                                      \n",
              "7476 soup            olive oil        mashed potato    fresh bread    \n",
              "7477                                                                  \n",
              "7478 soup            pancakes         whole wheat rice light cream    \n",
              "7479 pancakes        bug spray        low fat yogurt                  \n",
              "7480 champagne       strawberries                                     \n",
              "7481                                                                  \n",
              "7482                                                                  \n",
              "7483 fromage blanc   cottage cheese   brownies         salad          \n",
              "7484                                                                  \n",
              "7485                                                                  \n",
              "7486 olive oil       french fries     salt             asparagus      \n",
              "7487                                                                  \n",
              "7488                                                                  \n",
              "7489                                                                  \n",
              "7490                                                                  \n",
              "7491                                                                  \n",
              "7492                                                                  \n",
              "7493 frozen smoothie fresh bread      mint                            \n",
              "7494 pasta           tomatoes         pepper           milk           \n",
              "7495                                                                  \n",
              "7496                                                                  \n",
              "7497 magazines       green tea                                        \n",
              "7498                                                                  \n",
              "7499                                                                  \n",
              "7500                                                                  \n",
              "     energy.drink tomato.juice         low.fat.yogurt  green.tea       honey\n",
              "1                                                                           \n",
              "2                                                                           \n",
              "3                                                                           \n",
              "4                                                                           \n",
              "5                                                                           \n",
              "6                                                                           \n",
              "7                                                                           \n",
              "8                                                                           \n",
              "9                                                                           \n",
              "10                                                                          \n",
              "11                                                                          \n",
              "12                                                                          \n",
              "13                                                                          \n",
              "14                                                                          \n",
              "15                                                                          \n",
              "16                                                                          \n",
              "17                                                                          \n",
              "18   chicken      extra dark chocolate                                      \n",
              "19                                                                          \n",
              "20                                                                          \n",
              "21                                                                          \n",
              "22                                                                          \n",
              "23                                                                          \n",
              "24                                                                          \n",
              "25                                                                          \n",
              "26   escalope                                                               \n",
              "27                                                                          \n",
              "28                                                                          \n",
              "29                                                                          \n",
              "30                                                                          \n",
              "⋮    ⋮            ⋮                    ⋮               ⋮               ⋮    \n",
              "7471                                                                        \n",
              "7472                                                                        \n",
              "7473                                                                        \n",
              "7474 muffins      eggs                 sparkling water gluten free bar      \n",
              "7475                                                                        \n",
              "7476 mayonnaise   green tea                                                 \n",
              "7477                                                                        \n",
              "7478 carrots      mayonnaise                                                \n",
              "7479                                                                        \n",
              "7480                                                                        \n",
              "7481                                                                        \n",
              "7482                                                                        \n",
              "7483 mint         green tea                                                 \n",
              "7484                                                                        \n",
              "7485                                                                        \n",
              "7486                                                                        \n",
              "7487                                                                        \n",
              "7488                                                                        \n",
              "7489                                                                        \n",
              "7490                                                                        \n",
              "7491                                                                        \n",
              "7492                                                                        \n",
              "7493                                                                        \n",
              "7494 pancakes     whole wheat rice     oil             frozen smoothie      \n",
              "7495                                                                        \n",
              "7496                                                                        \n",
              "7497                                                                        \n",
              "7498                                                                        \n",
              "7499                                                                        \n",
              "7500                                                                        \n",
              "     salad mineral.water salmon antioxydant.juice frozen.smoothie spinach\n",
              "1                                                                        \n",
              "2                                                                        \n",
              "3                                                                        \n",
              "4                                                                        \n",
              "5                                                                        \n",
              "6                                                                        \n",
              "7                                                                        \n",
              "8                                                                        \n",
              "9                                                                        \n",
              "10                                                                       \n",
              "11                                                                       \n",
              "12                                                                       \n",
              "13                                                                       \n",
              "14                                                                       \n",
              "15                                                                       \n",
              "16                                                                       \n",
              "17                                                                       \n",
              "18                                                                       \n",
              "19                                                                       \n",
              "20                                                                       \n",
              "21                                                                       \n",
              "22                                                                       \n",
              "23                                                                       \n",
              "24                                                                       \n",
              "25                                                                       \n",
              "26                                                                       \n",
              "27                                                                       \n",
              "28                                                                       \n",
              "29                                                                       \n",
              "30                                                                       \n",
              "⋮    ⋮     ⋮             ⋮      ⋮                 ⋮               ⋮      \n",
              "7471                                                                     \n",
              "7472                                                                     \n",
              "7473                                                                     \n",
              "7474                                                                     \n",
              "7475                                                                     \n",
              "7476                                                                     \n",
              "7477                                                                     \n",
              "7478                                                                     \n",
              "7479                                                                     \n",
              "7480                                                                     \n",
              "7481                                                                     \n",
              "7482                                                                     \n",
              "7483                                                                     \n",
              "7484                                                                     \n",
              "7485                                                                     \n",
              "7486                                                                     \n",
              "7487                                                                     \n",
              "7488                                                                     \n",
              "7489                                                                     \n",
              "7490                                                                     \n",
              "7491                                                                     \n",
              "7492                                                                     \n",
              "7493                                                                     \n",
              "7494                                                                     \n",
              "7495                                                                     \n",
              "7496                                                                     \n",
              "7497                                                                     \n",
              "7498                                                                     \n",
              "7499                                                                     \n",
              "7500                                                                     \n",
              "     olive.oil\n",
              "1    NA       \n",
              "2    NA       \n",
              "3    NA       \n",
              "4    NA       \n",
              "5    NA       \n",
              "6    NA       \n",
              "7    NA       \n",
              "8    NA       \n",
              "9    NA       \n",
              "10   NA       \n",
              "11   NA       \n",
              "12   NA       \n",
              "13   NA       \n",
              "14   NA       \n",
              "15   NA       \n",
              "16   NA       \n",
              "17   NA       \n",
              "18   NA       \n",
              "19   NA       \n",
              "20   NA       \n",
              "21   NA       \n",
              "22   NA       \n",
              "23   NA       \n",
              "24   NA       \n",
              "25   NA       \n",
              "26   NA       \n",
              "27   NA       \n",
              "28   NA       \n",
              "29   NA       \n",
              "30   NA       \n",
              "⋮    ⋮        \n",
              "7471 NA       \n",
              "7472 NA       \n",
              "7473 NA       \n",
              "7474 NA       \n",
              "7475 NA       \n",
              "7476 NA       \n",
              "7477 NA       \n",
              "7478 NA       \n",
              "7479 NA       \n",
              "7480 NA       \n",
              "7481 NA       \n",
              "7482 NA       \n",
              "7483 NA       \n",
              "7484 NA       \n",
              "7485 NA       \n",
              "7486 NA       \n",
              "7487 NA       \n",
              "7488 NA       \n",
              "7489 NA       \n",
              "7490 NA       \n",
              "7491 NA       \n",
              "7492 NA       \n",
              "7493 NA       \n",
              "7494 NA       \n",
              "7495 NA       \n",
              "7496 NA       \n",
              "7497 NA       \n",
              "7498 NA       \n",
              "7499 NA       \n",
              "7500 NA       "
            ],
            "text/latex": "A data.frame: 7500 × 20\n\\begin{tabular}{llllllllllllllllllll}\n shrimp & almonds & avocado & vegetables.mix & green.grapes & whole.weat.flour & yams & cottage.cheese & energy.drink & tomato.juice & low.fat.yogurt & green.tea & honey & salad & mineral.water & salmon & antioxydant.juice & frozen.smoothie & spinach & olive.oil\\\\\n <chr> & <chr> & <chr> & <chr> & <chr> & <chr> & <chr> & <chr> & <chr> & <chr> & <chr> & <chr> & <chr> & <chr> & <chr> & <chr> & <chr> & <chr> & <chr> & <lgl>\\\\\n\\hline\n\t burgers           & meatballs       & eggs          &                  &               &             &                &                 &          &                      &  &  &  &  &  &  &  &  &  & NA\\\\\n\t chutney           &                 &               &                  &               &             &                &                 &          &                      &  &  &  &  &  &  &  &  &  & NA\\\\\n\t turkey            & avocado         &               &                  &               &             &                &                 &          &                      &  &  &  &  &  &  &  &  &  & NA\\\\\n\t mineral water     & milk            & energy bar    & whole wheat rice & green tea     &             &                &                 &          &                      &  &  &  &  &  &  &  &  &  & NA\\\\\n\t low fat yogurt    &                 &               &                  &               &             &                &                 &          &                      &  &  &  &  &  &  &  &  &  & NA\\\\\n\t whole wheat pasta & french fries    &               &                  &               &             &                &                 &          &                      &  &  &  &  &  &  &  &  &  & NA\\\\\n\t soup              & light cream     & shallot       &                  &               &             &                &                 &          &                      &  &  &  &  &  &  &  &  &  & NA\\\\\n\t frozen vegetables & spaghetti       & green tea     &                  &               &             &                &                 &          &                      &  &  &  &  &  &  &  &  &  & NA\\\\\n\t french fries      &                 &               &                  &               &             &                &                 &          &                      &  &  &  &  &  &  &  &  &  & NA\\\\\n\t eggs              & pet food        &               &                  &               &             &                &                 &          &                      &  &  &  &  &  &  &  &  &  & NA\\\\\n\t cookies           &                 &               &                  &               &             &                &                 &          &                      &  &  &  &  &  &  &  &  &  & NA\\\\\n\t turkey            & burgers         & mineral water & eggs             & cooking oil   &             &                &                 &          &                      &  &  &  &  &  &  &  &  &  & NA\\\\\n\t spaghetti         & champagne       & cookies       &                  &               &             &                &                 &          &                      &  &  &  &  &  &  &  &  &  & NA\\\\\n\t mineral water     & salmon          &               &                  &               &             &                &                 &          &                      &  &  &  &  &  &  &  &  &  & NA\\\\\n\t mineral water     &                 &               &                  &               &             &                &                 &          &                      &  &  &  &  &  &  &  &  &  & NA\\\\\n\t shrimp            & chocolate       & chicken       & honey            & oil           & cooking oil & low fat yogurt &                 &          &                      &  &  &  &  &  &  &  &  &  & NA\\\\\n\t turkey            & eggs            &               &                  &               &             &                &                 &          &                      &  &  &  &  &  &  &  &  &  & NA\\\\\n\t turkey            & fresh tuna      & tomatoes      & spaghetti        & mineral water & black tea   & salmon         & eggs            & chicken  & extra dark chocolate &  &  &  &  &  &  &  &  &  & NA\\\\\n\t meatballs         & milk            & honey         & french fries     & protein bar   &             &                &                 &          &                      &  &  &  &  &  &  &  &  &  & NA\\\\\n\t red wine          & shrimp          & pasta         & pepper           & eggs          & chocolate   & shampoo        &                 &          &                      &  &  &  &  &  &  &  &  &  & NA\\\\\n\t rice              & sparkling water &               &                  &               &             &                &                 &          &                      &  &  &  &  &  &  &  &  &  & NA\\\\\n\t spaghetti         & mineral water   & ham           & body spray       & pancakes      & green tea   &                &                 &          &                      &  &  &  &  &  &  &  &  &  & NA\\\\\n\t burgers           & grated cheese   & shrimp        & pasta            & avocado       & honey       & white wine     & toothpaste      &          &                      &  &  &  &  &  &  &  &  &  & NA\\\\\n\t eggs              &                 &               &                  &               &             &                &                 &          &                      &  &  &  &  &  &  &  &  &  & NA\\\\\n\t parmesan cheese   & spaghetti       & soup          & avocado          & milk          & fresh bread &                &                 &          &                      &  &  &  &  &  &  &  &  &  & NA\\\\\n\t ground beef       & spaghetti       & mineral water & milk             & energy bar    & black tea   & salmon         & frozen smoothie & escalope &                      &  &  &  &  &  &  &  &  &  & NA\\\\\n\t sparkling water   &                 &               &                  &               &             &                &                 &          &                      &  &  &  &  &  &  &  &  &  & NA\\\\\n\t mineral water     & eggs            & chicken       & chocolate        & french fries  &             &                &                 &          &                      &  &  &  &  &  &  &  &  &  & NA\\\\\n\t frozen vegetables & spaghetti       & yams          & mineral water    &               &             &                &                 &          &                      &  &  &  &  &  &  &  &  &  & NA\\\\\n\t herb \\& pepper     & tomato sauce    & light cream   & magazines        &               &             &                &                 &          &                      &  &  &  &  &  &  &  &  &  & NA\\\\\n\t ⋮ & ⋮ & ⋮ & ⋮ & ⋮ & ⋮ & ⋮ & ⋮ & ⋮ & ⋮ & ⋮ & ⋮ & ⋮ & ⋮ & ⋮ & ⋮ & ⋮ & ⋮ & ⋮ & ⋮\\\\\n\t mineral water     & chocolate         &                   &                &                 &                &                  &                &            &                  &                 &                 &  &  &  &  &  &  &  & NA\\\\\n\t chocolate         & grated cheese     & mineral water     & olive oil      & green tea       &                &                  &                &            &                  &                 &                 &  &  &  &  &  &  &  & NA\\\\\n\t whole wheat rice  & cake              & cottage cheese    &                &                 &                &                  &                &            &                  &                 &                 &  &  &  &  &  &  &  & NA\\\\\n\t turkey            & shrimp            & pasta             & mineral water  & chocolate       & milk           & salmon           & vegetables mix & muffins    & eggs             & sparkling water & gluten free bar &  &  &  &  &  &  &  & NA\\\\\n\t turkey            & mineral water     & cooking oil       & chocolate      & french fries    & protein bar    &                  &                &            &                  &                 &                 &  &  &  &  &  &  &  & NA\\\\\n\t tomatoes          & tomato sauce      & spaghetti         & mineral water  & soup            & olive oil      & mashed potato    & fresh bread    & mayonnaise & green tea        &                 &                 &  &  &  &  &  &  &  & NA\\\\\n\t tomato juice      &                   &                   &                &                 &                &                  &                &            &                  &                 &                 &  &  &  &  &  &  &  & NA\\\\\n\t turkey            & ground beef       & mineral water     & chocolate      & soup            & pancakes       & whole wheat rice & light cream    & carrots    & mayonnaise       &                 &                 &  &  &  &  &  &  &  & NA\\\\\n\t shrimp            & pasta             & mineral water     & olive oil      & pancakes        & bug spray      & low fat yogurt   &                &            &                  &                 &                 &  &  &  &  &  &  &  & NA\\\\\n\t frozen vegetables & french wine       & pancakes          & french fries   & champagne       & strawberries   &                  &                &            &                  &                 &                 &  &  &  &  &  &  &  & NA\\\\\n\t chocolate         & shrimp            & pasta             & spaghetti      &                 &                &                  &                &            &                  &                 &                 &  &  &  &  &  &  &  & NA\\\\\n\t chocolate         &                   &                   &                &                 &                &                  &                &            &                  &                 &                 &  &  &  &  &  &  &  & NA\\\\\n\t fresh tuna        & parmesan cheese   & whole wheat pasta & french wine    & fromage blanc   & cottage cheese & brownies         & salad          & mint       & green tea        &                 &                 &  &  &  &  &  &  &  & NA\\\\\n\t cookies           & energy drink      &                   &                &                 &                &                  &                &            &                  &                 &                 &  &  &  &  &  &  &  & NA\\\\\n\t parmesan cheese   & champagne         & white wine        &                &                 &                &                  &                &            &                  &                 &                 &  &  &  &  &  &  &  & NA\\\\\n\t red wine          & tomato sauce      & spaghetti         & chocolate      & olive oil       & french fries   & salt             & asparagus      &            &                  &                 &                 &  &  &  &  &  &  &  & NA\\\\\n\t soup              & milk              &                   &                &                 &                &                  &                &            &                  &                 &                 &  &  &  &  &  &  &  & NA\\\\\n\t eggs              & whole wheat rice  &                   &                &                 &                &                  &                &            &                  &                 &                 &  &  &  &  &  &  &  & NA\\\\\n\t brownies          &                   &                   &                &                 &                &                  &                &            &                  &                 &                 &  &  &  &  &  &  &  & NA\\\\\n\t herb \\& pepper     & spaghetti         & low fat yogurt    &                &                 &                &                  &                &            &                  &                 &                 &  &  &  &  &  &  &  & NA\\\\\n\t herb \\& pepper     &                   &                   &                &                 &                &                  &                &            &                  &                 &                 &  &  &  &  &  &  &  & NA\\\\\n\t chocolate         & escalope          &                   &                &                 &                &                  &                &            &                  &                 &                 &  &  &  &  &  &  &  & NA\\\\\n\t burgers           & salmon            & pancakes          & french fries   & frozen smoothie & fresh bread    & mint             &                &            &                  &                 &                 &  &  &  &  &  &  &  & NA\\\\\n\t turkey            & burgers           & dessert wine      & shrimp         & pasta           & tomatoes       & pepper           & milk           & pancakes   & whole wheat rice & oil             & frozen smoothie &  &  &  &  &  &  &  & NA\\\\\n\t pancakes          & light mayo        &                   &                &                 &                &                  &                &            &                  &                 &                 &  &  &  &  &  &  &  & NA\\\\\n\t butter            & light mayo        & fresh bread       &                &                 &                &                  &                &            &                  &                 &                 &  &  &  &  &  &  &  & NA\\\\\n\t burgers           & frozen vegetables & eggs              & french fries   & magazines       & green tea      &                  &                &            &                  &                 &                 &  &  &  &  &  &  &  & NA\\\\\n\t chicken           &                   &                   &                &                 &                &                  &                &            &                  &                 &                 &  &  &  &  &  &  &  & NA\\\\\n\t escalope          & green tea         &                   &                &                 &                &                  &                &            &                  &                 &                 &  &  &  &  &  &  &  & NA\\\\\n\t eggs              & frozen smoothie   & yogurt cake       & low fat yogurt &                 &                &                  &                &            &                  &                 &                 &  &  &  &  &  &  &  & NA\\\\\n\\end{tabular}\n",
            "text/markdown": "\nA data.frame: 7500 × 20\n\n| shrimp &lt;chr&gt; | almonds &lt;chr&gt; | avocado &lt;chr&gt; | vegetables.mix &lt;chr&gt; | green.grapes &lt;chr&gt; | whole.weat.flour &lt;chr&gt; | yams &lt;chr&gt; | cottage.cheese &lt;chr&gt; | energy.drink &lt;chr&gt; | tomato.juice &lt;chr&gt; | low.fat.yogurt &lt;chr&gt; | green.tea &lt;chr&gt; | honey &lt;chr&gt; | salad &lt;chr&gt; | mineral.water &lt;chr&gt; | salmon &lt;chr&gt; | antioxydant.juice &lt;chr&gt; | frozen.smoothie &lt;chr&gt; | spinach &lt;chr&gt; | olive.oil &lt;lgl&gt; |\n|---|---|---|---|---|---|---|---|---|---|---|---|---|---|---|---|---|---|---|---|\n| burgers           | meatballs       | eggs          | <!----> | <!----> | <!----> | <!----> | <!----> | <!----> | <!----> | <!----> | <!----> | <!----> | <!----> | <!----> | <!----> | <!----> | <!----> | <!----> | NA |\n| chutney           | <!----> | <!----> | <!----> | <!----> | <!----> | <!----> | <!----> | <!----> | <!----> | <!----> | <!----> | <!----> | <!----> | <!----> | <!----> | <!----> | <!----> | <!----> | NA |\n| turkey            | avocado         | <!----> | <!----> | <!----> | <!----> | <!----> | <!----> | <!----> | <!----> | <!----> | <!----> | <!----> | <!----> | <!----> | <!----> | <!----> | <!----> | <!----> | NA |\n| mineral water     | milk            | energy bar    | whole wheat rice | green tea     | <!----> | <!----> | <!----> | <!----> | <!----> | <!----> | <!----> | <!----> | <!----> | <!----> | <!----> | <!----> | <!----> | <!----> | NA |\n| low fat yogurt    | <!----> | <!----> | <!----> | <!----> | <!----> | <!----> | <!----> | <!----> | <!----> | <!----> | <!----> | <!----> | <!----> | <!----> | <!----> | <!----> | <!----> | <!----> | NA |\n| whole wheat pasta | french fries    | <!----> | <!----> | <!----> | <!----> | <!----> | <!----> | <!----> | <!----> | <!----> | <!----> | <!----> | <!----> | <!----> | <!----> | <!----> | <!----> | <!----> | NA |\n| soup              | light cream     | shallot       | <!----> | <!----> | <!----> | <!----> | <!----> | <!----> | <!----> | <!----> | <!----> | <!----> | <!----> | <!----> | <!----> | <!----> | <!----> | <!----> | NA |\n| frozen vegetables | spaghetti       | green tea     | <!----> | <!----> | <!----> | <!----> | <!----> | <!----> | <!----> | <!----> | <!----> | <!----> | <!----> | <!----> | <!----> | <!----> | <!----> | <!----> | NA |\n| french fries      | <!----> | <!----> | <!----> | <!----> | <!----> | <!----> | <!----> | <!----> | <!----> | <!----> | <!----> | <!----> | <!----> | <!----> | <!----> | <!----> | <!----> | <!----> | NA |\n| eggs              | pet food        | <!----> | <!----> | <!----> | <!----> | <!----> | <!----> | <!----> | <!----> | <!----> | <!----> | <!----> | <!----> | <!----> | <!----> | <!----> | <!----> | <!----> | NA |\n| cookies           | <!----> | <!----> | <!----> | <!----> | <!----> | <!----> | <!----> | <!----> | <!----> | <!----> | <!----> | <!----> | <!----> | <!----> | <!----> | <!----> | <!----> | <!----> | NA |\n| turkey            | burgers         | mineral water | eggs             | cooking oil   | <!----> | <!----> | <!----> | <!----> | <!----> | <!----> | <!----> | <!----> | <!----> | <!----> | <!----> | <!----> | <!----> | <!----> | NA |\n| spaghetti         | champagne       | cookies       | <!----> | <!----> | <!----> | <!----> | <!----> | <!----> | <!----> | <!----> | <!----> | <!----> | <!----> | <!----> | <!----> | <!----> | <!----> | <!----> | NA |\n| mineral water     | salmon          | <!----> | <!----> | <!----> | <!----> | <!----> | <!----> | <!----> | <!----> | <!----> | <!----> | <!----> | <!----> | <!----> | <!----> | <!----> | <!----> | <!----> | NA |\n| mineral water     | <!----> | <!----> | <!----> | <!----> | <!----> | <!----> | <!----> | <!----> | <!----> | <!----> | <!----> | <!----> | <!----> | <!----> | <!----> | <!----> | <!----> | <!----> | NA |\n| shrimp            | chocolate       | chicken       | honey            | oil           | cooking oil | low fat yogurt | <!----> | <!----> | <!----> | <!----> | <!----> | <!----> | <!----> | <!----> | <!----> | <!----> | <!----> | <!----> | NA |\n| turkey            | eggs            | <!----> | <!----> | <!----> | <!----> | <!----> | <!----> | <!----> | <!----> | <!----> | <!----> | <!----> | <!----> | <!----> | <!----> | <!----> | <!----> | <!----> | NA |\n| turkey            | fresh tuna      | tomatoes      | spaghetti        | mineral water | black tea   | salmon         | eggs            | chicken  | extra dark chocolate | <!----> | <!----> | <!----> | <!----> | <!----> | <!----> | <!----> | <!----> | <!----> | NA |\n| meatballs         | milk            | honey         | french fries     | protein bar   | <!----> | <!----> | <!----> | <!----> | <!----> | <!----> | <!----> | <!----> | <!----> | <!----> | <!----> | <!----> | <!----> | <!----> | NA |\n| red wine          | shrimp          | pasta         | pepper           | eggs          | chocolate   | shampoo        | <!----> | <!----> | <!----> | <!----> | <!----> | <!----> | <!----> | <!----> | <!----> | <!----> | <!----> | <!----> | NA |\n| rice              | sparkling water | <!----> | <!----> | <!----> | <!----> | <!----> | <!----> | <!----> | <!----> | <!----> | <!----> | <!----> | <!----> | <!----> | <!----> | <!----> | <!----> | <!----> | NA |\n| spaghetti         | mineral water   | ham           | body spray       | pancakes      | green tea   | <!----> | <!----> | <!----> | <!----> | <!----> | <!----> | <!----> | <!----> | <!----> | <!----> | <!----> | <!----> | <!----> | NA |\n| burgers           | grated cheese   | shrimp        | pasta            | avocado       | honey       | white wine     | toothpaste      | <!----> | <!----> | <!----> | <!----> | <!----> | <!----> | <!----> | <!----> | <!----> | <!----> | <!----> | NA |\n| eggs              | <!----> | <!----> | <!----> | <!----> | <!----> | <!----> | <!----> | <!----> | <!----> | <!----> | <!----> | <!----> | <!----> | <!----> | <!----> | <!----> | <!----> | <!----> | NA |\n| parmesan cheese   | spaghetti       | soup          | avocado          | milk          | fresh bread | <!----> | <!----> | <!----> | <!----> | <!----> | <!----> | <!----> | <!----> | <!----> | <!----> | <!----> | <!----> | <!----> | NA |\n| ground beef       | spaghetti       | mineral water | milk             | energy bar    | black tea   | salmon         | frozen smoothie | escalope | <!----> | <!----> | <!----> | <!----> | <!----> | <!----> | <!----> | <!----> | <!----> | <!----> | NA |\n| sparkling water   | <!----> | <!----> | <!----> | <!----> | <!----> | <!----> | <!----> | <!----> | <!----> | <!----> | <!----> | <!----> | <!----> | <!----> | <!----> | <!----> | <!----> | <!----> | NA |\n| mineral water     | eggs            | chicken       | chocolate        | french fries  | <!----> | <!----> | <!----> | <!----> | <!----> | <!----> | <!----> | <!----> | <!----> | <!----> | <!----> | <!----> | <!----> | <!----> | NA |\n| frozen vegetables | spaghetti       | yams          | mineral water    | <!----> | <!----> | <!----> | <!----> | <!----> | <!----> | <!----> | <!----> | <!----> | <!----> | <!----> | <!----> | <!----> | <!----> | <!----> | NA |\n| herb &amp; pepper     | tomato sauce    | light cream   | magazines        | <!----> | <!----> | <!----> | <!----> | <!----> | <!----> | <!----> | <!----> | <!----> | <!----> | <!----> | <!----> | <!----> | <!----> | <!----> | NA |\n| ⋮ | ⋮ | ⋮ | ⋮ | ⋮ | ⋮ | ⋮ | ⋮ | ⋮ | ⋮ | ⋮ | ⋮ | ⋮ | ⋮ | ⋮ | ⋮ | ⋮ | ⋮ | ⋮ | ⋮ |\n| mineral water     | chocolate         | <!----> | <!----> | <!----> | <!----> | <!----> | <!----> | <!----> | <!----> | <!----> | <!----> | <!----> | <!----> | <!----> | <!----> | <!----> | <!----> | <!----> | NA |\n| chocolate         | grated cheese     | mineral water     | olive oil      | green tea       | <!----> | <!----> | <!----> | <!----> | <!----> | <!----> | <!----> | <!----> | <!----> | <!----> | <!----> | <!----> | <!----> | <!----> | NA |\n| whole wheat rice  | cake              | cottage cheese    | <!----> | <!----> | <!----> | <!----> | <!----> | <!----> | <!----> | <!----> | <!----> | <!----> | <!----> | <!----> | <!----> | <!----> | <!----> | <!----> | NA |\n| turkey            | shrimp            | pasta             | mineral water  | chocolate       | milk           | salmon           | vegetables mix | muffins    | eggs             | sparkling water | gluten free bar | <!----> | <!----> | <!----> | <!----> | <!----> | <!----> | <!----> | NA |\n| turkey            | mineral water     | cooking oil       | chocolate      | french fries    | protein bar    | <!----> | <!----> | <!----> | <!----> | <!----> | <!----> | <!----> | <!----> | <!----> | <!----> | <!----> | <!----> | <!----> | NA |\n| tomatoes          | tomato sauce      | spaghetti         | mineral water  | soup            | olive oil      | mashed potato    | fresh bread    | mayonnaise | green tea        | <!----> | <!----> | <!----> | <!----> | <!----> | <!----> | <!----> | <!----> | <!----> | NA |\n| tomato juice      | <!----> | <!----> | <!----> | <!----> | <!----> | <!----> | <!----> | <!----> | <!----> | <!----> | <!----> | <!----> | <!----> | <!----> | <!----> | <!----> | <!----> | <!----> | NA |\n| turkey            | ground beef       | mineral water     | chocolate      | soup            | pancakes       | whole wheat rice | light cream    | carrots    | mayonnaise       | <!----> | <!----> | <!----> | <!----> | <!----> | <!----> | <!----> | <!----> | <!----> | NA |\n| shrimp            | pasta             | mineral water     | olive oil      | pancakes        | bug spray      | low fat yogurt   | <!----> | <!----> | <!----> | <!----> | <!----> | <!----> | <!----> | <!----> | <!----> | <!----> | <!----> | <!----> | NA |\n| frozen vegetables | french wine       | pancakes          | french fries   | champagne       | strawberries   | <!----> | <!----> | <!----> | <!----> | <!----> | <!----> | <!----> | <!----> | <!----> | <!----> | <!----> | <!----> | <!----> | NA |\n| chocolate         | shrimp            | pasta             | spaghetti      | <!----> | <!----> | <!----> | <!----> | <!----> | <!----> | <!----> | <!----> | <!----> | <!----> | <!----> | <!----> | <!----> | <!----> | <!----> | NA |\n| chocolate         | <!----> | <!----> | <!----> | <!----> | <!----> | <!----> | <!----> | <!----> | <!----> | <!----> | <!----> | <!----> | <!----> | <!----> | <!----> | <!----> | <!----> | <!----> | NA |\n| fresh tuna        | parmesan cheese   | whole wheat pasta | french wine    | fromage blanc   | cottage cheese | brownies         | salad          | mint       | green tea        | <!----> | <!----> | <!----> | <!----> | <!----> | <!----> | <!----> | <!----> | <!----> | NA |\n| cookies           | energy drink      | <!----> | <!----> | <!----> | <!----> | <!----> | <!----> | <!----> | <!----> | <!----> | <!----> | <!----> | <!----> | <!----> | <!----> | <!----> | <!----> | <!----> | NA |\n| parmesan cheese   | champagne         | white wine        | <!----> | <!----> | <!----> | <!----> | <!----> | <!----> | <!----> | <!----> | <!----> | <!----> | <!----> | <!----> | <!----> | <!----> | <!----> | <!----> | NA |\n| red wine          | tomato sauce      | spaghetti         | chocolate      | olive oil       | french fries   | salt             | asparagus      | <!----> | <!----> | <!----> | <!----> | <!----> | <!----> | <!----> | <!----> | <!----> | <!----> | <!----> | NA |\n| soup              | milk              | <!----> | <!----> | <!----> | <!----> | <!----> | <!----> | <!----> | <!----> | <!----> | <!----> | <!----> | <!----> | <!----> | <!----> | <!----> | <!----> | <!----> | NA |\n| eggs              | whole wheat rice  | <!----> | <!----> | <!----> | <!----> | <!----> | <!----> | <!----> | <!----> | <!----> | <!----> | <!----> | <!----> | <!----> | <!----> | <!----> | <!----> | <!----> | NA |\n| brownies          | <!----> | <!----> | <!----> | <!----> | <!----> | <!----> | <!----> | <!----> | <!----> | <!----> | <!----> | <!----> | <!----> | <!----> | <!----> | <!----> | <!----> | <!----> | NA |\n| herb &amp; pepper     | spaghetti         | low fat yogurt    | <!----> | <!----> | <!----> | <!----> | <!----> | <!----> | <!----> | <!----> | <!----> | <!----> | <!----> | <!----> | <!----> | <!----> | <!----> | <!----> | NA |\n| herb &amp; pepper     | <!----> | <!----> | <!----> | <!----> | <!----> | <!----> | <!----> | <!----> | <!----> | <!----> | <!----> | <!----> | <!----> | <!----> | <!----> | <!----> | <!----> | <!----> | NA |\n| chocolate         | escalope          | <!----> | <!----> | <!----> | <!----> | <!----> | <!----> | <!----> | <!----> | <!----> | <!----> | <!----> | <!----> | <!----> | <!----> | <!----> | <!----> | <!----> | NA |\n| burgers           | salmon            | pancakes          | french fries   | frozen smoothie | fresh bread    | mint             | <!----> | <!----> | <!----> | <!----> | <!----> | <!----> | <!----> | <!----> | <!----> | <!----> | <!----> | <!----> | NA |\n| turkey            | burgers           | dessert wine      | shrimp         | pasta           | tomatoes       | pepper           | milk           | pancakes   | whole wheat rice | oil             | frozen smoothie | <!----> | <!----> | <!----> | <!----> | <!----> | <!----> | <!----> | NA |\n| pancakes          | light mayo        | <!----> | <!----> | <!----> | <!----> | <!----> | <!----> | <!----> | <!----> | <!----> | <!----> | <!----> | <!----> | <!----> | <!----> | <!----> | <!----> | <!----> | NA |\n| butter            | light mayo        | fresh bread       | <!----> | <!----> | <!----> | <!----> | <!----> | <!----> | <!----> | <!----> | <!----> | <!----> | <!----> | <!----> | <!----> | <!----> | <!----> | <!----> | NA |\n| burgers           | frozen vegetables | eggs              | french fries   | magazines       | green tea      | <!----> | <!----> | <!----> | <!----> | <!----> | <!----> | <!----> | <!----> | <!----> | <!----> | <!----> | <!----> | <!----> | NA |\n| chicken           | <!----> | <!----> | <!----> | <!----> | <!----> | <!----> | <!----> | <!----> | <!----> | <!----> | <!----> | <!----> | <!----> | <!----> | <!----> | <!----> | <!----> | <!----> | NA |\n| escalope          | green tea         | <!----> | <!----> | <!----> | <!----> | <!----> | <!----> | <!----> | <!----> | <!----> | <!----> | <!----> | <!----> | <!----> | <!----> | <!----> | <!----> | <!----> | NA |\n| eggs              | frozen smoothie   | yogurt cake       | low fat yogurt | <!----> | <!----> | <!----> | <!----> | <!----> | <!----> | <!----> | <!----> | <!----> | <!----> | <!----> | <!----> | <!----> | <!----> | <!----> | NA |\n\n",
            "text/html": [
              "<table>\n",
              "<caption>A data.frame: 7500 × 20</caption>\n",
              "<thead>\n",
              "\t<tr><th scope=col>shrimp</th><th scope=col>almonds</th><th scope=col>avocado</th><th scope=col>vegetables.mix</th><th scope=col>green.grapes</th><th scope=col>whole.weat.flour</th><th scope=col>yams</th><th scope=col>cottage.cheese</th><th scope=col>energy.drink</th><th scope=col>tomato.juice</th><th scope=col>low.fat.yogurt</th><th scope=col>green.tea</th><th scope=col>honey</th><th scope=col>salad</th><th scope=col>mineral.water</th><th scope=col>salmon</th><th scope=col>antioxydant.juice</th><th scope=col>frozen.smoothie</th><th scope=col>spinach</th><th scope=col>olive.oil</th></tr>\n",
              "\t<tr><th scope=col>&lt;chr&gt;</th><th scope=col>&lt;chr&gt;</th><th scope=col>&lt;chr&gt;</th><th scope=col>&lt;chr&gt;</th><th scope=col>&lt;chr&gt;</th><th scope=col>&lt;chr&gt;</th><th scope=col>&lt;chr&gt;</th><th scope=col>&lt;chr&gt;</th><th scope=col>&lt;chr&gt;</th><th scope=col>&lt;chr&gt;</th><th scope=col>&lt;chr&gt;</th><th scope=col>&lt;chr&gt;</th><th scope=col>&lt;chr&gt;</th><th scope=col>&lt;chr&gt;</th><th scope=col>&lt;chr&gt;</th><th scope=col>&lt;chr&gt;</th><th scope=col>&lt;chr&gt;</th><th scope=col>&lt;chr&gt;</th><th scope=col>&lt;chr&gt;</th><th scope=col>&lt;lgl&gt;</th></tr>\n",
              "</thead>\n",
              "<tbody>\n",
              "\t<tr><td>burgers          </td><td>meatballs      </td><td>eggs         </td><td>                </td><td>             </td><td>           </td><td>              </td><td>               </td><td>        </td><td>                    </td><td></td><td></td><td></td><td></td><td></td><td></td><td></td><td></td><td></td><td>NA</td></tr>\n",
              "\t<tr><td>chutney          </td><td>               </td><td>             </td><td>                </td><td>             </td><td>           </td><td>              </td><td>               </td><td>        </td><td>                    </td><td></td><td></td><td></td><td></td><td></td><td></td><td></td><td></td><td></td><td>NA</td></tr>\n",
              "\t<tr><td>turkey           </td><td>avocado        </td><td>             </td><td>                </td><td>             </td><td>           </td><td>              </td><td>               </td><td>        </td><td>                    </td><td></td><td></td><td></td><td></td><td></td><td></td><td></td><td></td><td></td><td>NA</td></tr>\n",
              "\t<tr><td>mineral water    </td><td>milk           </td><td>energy bar   </td><td>whole wheat rice</td><td>green tea    </td><td>           </td><td>              </td><td>               </td><td>        </td><td>                    </td><td></td><td></td><td></td><td></td><td></td><td></td><td></td><td></td><td></td><td>NA</td></tr>\n",
              "\t<tr><td>low fat yogurt   </td><td>               </td><td>             </td><td>                </td><td>             </td><td>           </td><td>              </td><td>               </td><td>        </td><td>                    </td><td></td><td></td><td></td><td></td><td></td><td></td><td></td><td></td><td></td><td>NA</td></tr>\n",
              "\t<tr><td>whole wheat pasta</td><td>french fries   </td><td>             </td><td>                </td><td>             </td><td>           </td><td>              </td><td>               </td><td>        </td><td>                    </td><td></td><td></td><td></td><td></td><td></td><td></td><td></td><td></td><td></td><td>NA</td></tr>\n",
              "\t<tr><td>soup             </td><td>light cream    </td><td>shallot      </td><td>                </td><td>             </td><td>           </td><td>              </td><td>               </td><td>        </td><td>                    </td><td></td><td></td><td></td><td></td><td></td><td></td><td></td><td></td><td></td><td>NA</td></tr>\n",
              "\t<tr><td>frozen vegetables</td><td>spaghetti      </td><td>green tea    </td><td>                </td><td>             </td><td>           </td><td>              </td><td>               </td><td>        </td><td>                    </td><td></td><td></td><td></td><td></td><td></td><td></td><td></td><td></td><td></td><td>NA</td></tr>\n",
              "\t<tr><td>french fries     </td><td>               </td><td>             </td><td>                </td><td>             </td><td>           </td><td>              </td><td>               </td><td>        </td><td>                    </td><td></td><td></td><td></td><td></td><td></td><td></td><td></td><td></td><td></td><td>NA</td></tr>\n",
              "\t<tr><td>eggs             </td><td>pet food       </td><td>             </td><td>                </td><td>             </td><td>           </td><td>              </td><td>               </td><td>        </td><td>                    </td><td></td><td></td><td></td><td></td><td></td><td></td><td></td><td></td><td></td><td>NA</td></tr>\n",
              "\t<tr><td>cookies          </td><td>               </td><td>             </td><td>                </td><td>             </td><td>           </td><td>              </td><td>               </td><td>        </td><td>                    </td><td></td><td></td><td></td><td></td><td></td><td></td><td></td><td></td><td></td><td>NA</td></tr>\n",
              "\t<tr><td>turkey           </td><td>burgers        </td><td>mineral water</td><td>eggs            </td><td>cooking oil  </td><td>           </td><td>              </td><td>               </td><td>        </td><td>                    </td><td></td><td></td><td></td><td></td><td></td><td></td><td></td><td></td><td></td><td>NA</td></tr>\n",
              "\t<tr><td>spaghetti        </td><td>champagne      </td><td>cookies      </td><td>                </td><td>             </td><td>           </td><td>              </td><td>               </td><td>        </td><td>                    </td><td></td><td></td><td></td><td></td><td></td><td></td><td></td><td></td><td></td><td>NA</td></tr>\n",
              "\t<tr><td>mineral water    </td><td>salmon         </td><td>             </td><td>                </td><td>             </td><td>           </td><td>              </td><td>               </td><td>        </td><td>                    </td><td></td><td></td><td></td><td></td><td></td><td></td><td></td><td></td><td></td><td>NA</td></tr>\n",
              "\t<tr><td>mineral water    </td><td>               </td><td>             </td><td>                </td><td>             </td><td>           </td><td>              </td><td>               </td><td>        </td><td>                    </td><td></td><td></td><td></td><td></td><td></td><td></td><td></td><td></td><td></td><td>NA</td></tr>\n",
              "\t<tr><td>shrimp           </td><td>chocolate      </td><td>chicken      </td><td>honey           </td><td>oil          </td><td>cooking oil</td><td>low fat yogurt</td><td>               </td><td>        </td><td>                    </td><td></td><td></td><td></td><td></td><td></td><td></td><td></td><td></td><td></td><td>NA</td></tr>\n",
              "\t<tr><td>turkey           </td><td>eggs           </td><td>             </td><td>                </td><td>             </td><td>           </td><td>              </td><td>               </td><td>        </td><td>                    </td><td></td><td></td><td></td><td></td><td></td><td></td><td></td><td></td><td></td><td>NA</td></tr>\n",
              "\t<tr><td>turkey           </td><td>fresh tuna     </td><td>tomatoes     </td><td>spaghetti       </td><td>mineral water</td><td>black tea  </td><td>salmon        </td><td>eggs           </td><td>chicken </td><td>extra dark chocolate</td><td></td><td></td><td></td><td></td><td></td><td></td><td></td><td></td><td></td><td>NA</td></tr>\n",
              "\t<tr><td>meatballs        </td><td>milk           </td><td>honey        </td><td>french fries    </td><td>protein bar  </td><td>           </td><td>              </td><td>               </td><td>        </td><td>                    </td><td></td><td></td><td></td><td></td><td></td><td></td><td></td><td></td><td></td><td>NA</td></tr>\n",
              "\t<tr><td>red wine         </td><td>shrimp         </td><td>pasta        </td><td>pepper          </td><td>eggs         </td><td>chocolate  </td><td>shampoo       </td><td>               </td><td>        </td><td>                    </td><td></td><td></td><td></td><td></td><td></td><td></td><td></td><td></td><td></td><td>NA</td></tr>\n",
              "\t<tr><td>rice             </td><td>sparkling water</td><td>             </td><td>                </td><td>             </td><td>           </td><td>              </td><td>               </td><td>        </td><td>                    </td><td></td><td></td><td></td><td></td><td></td><td></td><td></td><td></td><td></td><td>NA</td></tr>\n",
              "\t<tr><td>spaghetti        </td><td>mineral water  </td><td>ham          </td><td>body spray      </td><td>pancakes     </td><td>green tea  </td><td>              </td><td>               </td><td>        </td><td>                    </td><td></td><td></td><td></td><td></td><td></td><td></td><td></td><td></td><td></td><td>NA</td></tr>\n",
              "\t<tr><td>burgers          </td><td>grated cheese  </td><td>shrimp       </td><td>pasta           </td><td>avocado      </td><td>honey      </td><td>white wine    </td><td>toothpaste     </td><td>        </td><td>                    </td><td></td><td></td><td></td><td></td><td></td><td></td><td></td><td></td><td></td><td>NA</td></tr>\n",
              "\t<tr><td>eggs             </td><td>               </td><td>             </td><td>                </td><td>             </td><td>           </td><td>              </td><td>               </td><td>        </td><td>                    </td><td></td><td></td><td></td><td></td><td></td><td></td><td></td><td></td><td></td><td>NA</td></tr>\n",
              "\t<tr><td>parmesan cheese  </td><td>spaghetti      </td><td>soup         </td><td>avocado         </td><td>milk         </td><td>fresh bread</td><td>              </td><td>               </td><td>        </td><td>                    </td><td></td><td></td><td></td><td></td><td></td><td></td><td></td><td></td><td></td><td>NA</td></tr>\n",
              "\t<tr><td>ground beef      </td><td>spaghetti      </td><td>mineral water</td><td>milk            </td><td>energy bar   </td><td>black tea  </td><td>salmon        </td><td>frozen smoothie</td><td>escalope</td><td>                    </td><td></td><td></td><td></td><td></td><td></td><td></td><td></td><td></td><td></td><td>NA</td></tr>\n",
              "\t<tr><td>sparkling water  </td><td>               </td><td>             </td><td>                </td><td>             </td><td>           </td><td>              </td><td>               </td><td>        </td><td>                    </td><td></td><td></td><td></td><td></td><td></td><td></td><td></td><td></td><td></td><td>NA</td></tr>\n",
              "\t<tr><td>mineral water    </td><td>eggs           </td><td>chicken      </td><td>chocolate       </td><td>french fries </td><td>           </td><td>              </td><td>               </td><td>        </td><td>                    </td><td></td><td></td><td></td><td></td><td></td><td></td><td></td><td></td><td></td><td>NA</td></tr>\n",
              "\t<tr><td>frozen vegetables</td><td>spaghetti      </td><td>yams         </td><td>mineral water   </td><td>             </td><td>           </td><td>              </td><td>               </td><td>        </td><td>                    </td><td></td><td></td><td></td><td></td><td></td><td></td><td></td><td></td><td></td><td>NA</td></tr>\n",
              "\t<tr><td><span style=white-space:pre-wrap>herb &amp; pepper    </span></td><td><span style=white-space:pre-wrap>tomato sauce   </span></td><td><span style=white-space:pre-wrap>light cream  </span></td><td><span style=white-space:pre-wrap>magazines       </span></td><td><span style=white-space:pre-wrap>             </span></td><td><span style=white-space:pre-wrap>           </span></td><td><span style=white-space:pre-wrap>              </span></td><td><span style=white-space:pre-wrap>               </span></td><td><span style=white-space:pre-wrap>        </span></td><td><span style=white-space:pre-wrap>                    </span></td><td></td><td></td><td></td><td></td><td></td><td></td><td></td><td></td><td></td><td>NA</td></tr>\n",
              "\t<tr><td>⋮</td><td>⋮</td><td>⋮</td><td>⋮</td><td>⋮</td><td>⋮</td><td>⋮</td><td>⋮</td><td>⋮</td><td>⋮</td><td>⋮</td><td>⋮</td><td>⋮</td><td>⋮</td><td>⋮</td><td>⋮</td><td>⋮</td><td>⋮</td><td>⋮</td><td>⋮</td></tr>\n",
              "\t<tr><td>mineral water    </td><td>chocolate        </td><td>                 </td><td>              </td><td>               </td><td>              </td><td>                </td><td>              </td><td>          </td><td>                </td><td>               </td><td>               </td><td></td><td></td><td></td><td></td><td></td><td></td><td></td><td>NA</td></tr>\n",
              "\t<tr><td>chocolate        </td><td>grated cheese    </td><td>mineral water    </td><td>olive oil     </td><td>green tea      </td><td>              </td><td>                </td><td>              </td><td>          </td><td>                </td><td>               </td><td>               </td><td></td><td></td><td></td><td></td><td></td><td></td><td></td><td>NA</td></tr>\n",
              "\t<tr><td>whole wheat rice </td><td>cake             </td><td>cottage cheese   </td><td>              </td><td>               </td><td>              </td><td>                </td><td>              </td><td>          </td><td>                </td><td>               </td><td>               </td><td></td><td></td><td></td><td></td><td></td><td></td><td></td><td>NA</td></tr>\n",
              "\t<tr><td>turkey           </td><td>shrimp           </td><td>pasta            </td><td>mineral water </td><td>chocolate      </td><td>milk          </td><td>salmon          </td><td>vegetables mix</td><td>muffins   </td><td>eggs            </td><td>sparkling water</td><td>gluten free bar</td><td></td><td></td><td></td><td></td><td></td><td></td><td></td><td>NA</td></tr>\n",
              "\t<tr><td>turkey           </td><td>mineral water    </td><td>cooking oil      </td><td>chocolate     </td><td>french fries   </td><td>protein bar   </td><td>                </td><td>              </td><td>          </td><td>                </td><td>               </td><td>               </td><td></td><td></td><td></td><td></td><td></td><td></td><td></td><td>NA</td></tr>\n",
              "\t<tr><td>tomatoes         </td><td>tomato sauce     </td><td>spaghetti        </td><td>mineral water </td><td>soup           </td><td>olive oil     </td><td>mashed potato   </td><td>fresh bread   </td><td>mayonnaise</td><td>green tea       </td><td>               </td><td>               </td><td></td><td></td><td></td><td></td><td></td><td></td><td></td><td>NA</td></tr>\n",
              "\t<tr><td>tomato juice     </td><td>                 </td><td>                 </td><td>              </td><td>               </td><td>              </td><td>                </td><td>              </td><td>          </td><td>                </td><td>               </td><td>               </td><td></td><td></td><td></td><td></td><td></td><td></td><td></td><td>NA</td></tr>\n",
              "\t<tr><td>turkey           </td><td>ground beef      </td><td>mineral water    </td><td>chocolate     </td><td>soup           </td><td>pancakes      </td><td>whole wheat rice</td><td>light cream   </td><td>carrots   </td><td>mayonnaise      </td><td>               </td><td>               </td><td></td><td></td><td></td><td></td><td></td><td></td><td></td><td>NA</td></tr>\n",
              "\t<tr><td>shrimp           </td><td>pasta            </td><td>mineral water    </td><td>olive oil     </td><td>pancakes       </td><td>bug spray     </td><td>low fat yogurt  </td><td>              </td><td>          </td><td>                </td><td>               </td><td>               </td><td></td><td></td><td></td><td></td><td></td><td></td><td></td><td>NA</td></tr>\n",
              "\t<tr><td>frozen vegetables</td><td>french wine      </td><td>pancakes         </td><td>french fries  </td><td>champagne      </td><td>strawberries  </td><td>                </td><td>              </td><td>          </td><td>                </td><td>               </td><td>               </td><td></td><td></td><td></td><td></td><td></td><td></td><td></td><td>NA</td></tr>\n",
              "\t<tr><td>chocolate        </td><td>shrimp           </td><td>pasta            </td><td>spaghetti     </td><td>               </td><td>              </td><td>                </td><td>              </td><td>          </td><td>                </td><td>               </td><td>               </td><td></td><td></td><td></td><td></td><td></td><td></td><td></td><td>NA</td></tr>\n",
              "\t<tr><td>chocolate        </td><td>                 </td><td>                 </td><td>              </td><td>               </td><td>              </td><td>                </td><td>              </td><td>          </td><td>                </td><td>               </td><td>               </td><td></td><td></td><td></td><td></td><td></td><td></td><td></td><td>NA</td></tr>\n",
              "\t<tr><td>fresh tuna       </td><td>parmesan cheese  </td><td>whole wheat pasta</td><td>french wine   </td><td>fromage blanc  </td><td>cottage cheese</td><td>brownies        </td><td>salad         </td><td>mint      </td><td>green tea       </td><td>               </td><td>               </td><td></td><td></td><td></td><td></td><td></td><td></td><td></td><td>NA</td></tr>\n",
              "\t<tr><td>cookies          </td><td>energy drink     </td><td>                 </td><td>              </td><td>               </td><td>              </td><td>                </td><td>              </td><td>          </td><td>                </td><td>               </td><td>               </td><td></td><td></td><td></td><td></td><td></td><td></td><td></td><td>NA</td></tr>\n",
              "\t<tr><td>parmesan cheese  </td><td>champagne        </td><td>white wine       </td><td>              </td><td>               </td><td>              </td><td>                </td><td>              </td><td>          </td><td>                </td><td>               </td><td>               </td><td></td><td></td><td></td><td></td><td></td><td></td><td></td><td>NA</td></tr>\n",
              "\t<tr><td>red wine         </td><td>tomato sauce     </td><td>spaghetti        </td><td>chocolate     </td><td>olive oil      </td><td>french fries  </td><td>salt            </td><td>asparagus     </td><td>          </td><td>                </td><td>               </td><td>               </td><td></td><td></td><td></td><td></td><td></td><td></td><td></td><td>NA</td></tr>\n",
              "\t<tr><td>soup             </td><td>milk             </td><td>                 </td><td>              </td><td>               </td><td>              </td><td>                </td><td>              </td><td>          </td><td>                </td><td>               </td><td>               </td><td></td><td></td><td></td><td></td><td></td><td></td><td></td><td>NA</td></tr>\n",
              "\t<tr><td>eggs             </td><td>whole wheat rice </td><td>                 </td><td>              </td><td>               </td><td>              </td><td>                </td><td>              </td><td>          </td><td>                </td><td>               </td><td>               </td><td></td><td></td><td></td><td></td><td></td><td></td><td></td><td>NA</td></tr>\n",
              "\t<tr><td>brownies         </td><td>                 </td><td>                 </td><td>              </td><td>               </td><td>              </td><td>                </td><td>              </td><td>          </td><td>                </td><td>               </td><td>               </td><td></td><td></td><td></td><td></td><td></td><td></td><td></td><td>NA</td></tr>\n",
              "\t<tr><td><span style=white-space:pre-wrap>herb &amp; pepper    </span></td><td><span style=white-space:pre-wrap>spaghetti        </span></td><td><span style=white-space:pre-wrap>low fat yogurt   </span></td><td><span style=white-space:pre-wrap>              </span></td><td><span style=white-space:pre-wrap>               </span></td><td><span style=white-space:pre-wrap>              </span></td><td><span style=white-space:pre-wrap>                </span></td><td><span style=white-space:pre-wrap>              </span></td><td><span style=white-space:pre-wrap>          </span></td><td><span style=white-space:pre-wrap>                </span></td><td><span style=white-space:pre-wrap>               </span></td><td><span style=white-space:pre-wrap>               </span></td><td></td><td></td><td></td><td></td><td></td><td></td><td></td><td>NA</td></tr>\n",
              "\t<tr><td><span style=white-space:pre-wrap>herb &amp; pepper    </span></td><td><span style=white-space:pre-wrap>                 </span></td><td><span style=white-space:pre-wrap>                 </span></td><td><span style=white-space:pre-wrap>              </span></td><td><span style=white-space:pre-wrap>               </span></td><td><span style=white-space:pre-wrap>              </span></td><td><span style=white-space:pre-wrap>                </span></td><td><span style=white-space:pre-wrap>              </span></td><td><span style=white-space:pre-wrap>          </span></td><td><span style=white-space:pre-wrap>                </span></td><td><span style=white-space:pre-wrap>               </span></td><td><span style=white-space:pre-wrap>               </span></td><td></td><td></td><td></td><td></td><td></td><td></td><td></td><td>NA</td></tr>\n",
              "\t<tr><td>chocolate        </td><td>escalope         </td><td>                 </td><td>              </td><td>               </td><td>              </td><td>                </td><td>              </td><td>          </td><td>                </td><td>               </td><td>               </td><td></td><td></td><td></td><td></td><td></td><td></td><td></td><td>NA</td></tr>\n",
              "\t<tr><td>burgers          </td><td>salmon           </td><td>pancakes         </td><td>french fries  </td><td>frozen smoothie</td><td>fresh bread   </td><td>mint            </td><td>              </td><td>          </td><td>                </td><td>               </td><td>               </td><td></td><td></td><td></td><td></td><td></td><td></td><td></td><td>NA</td></tr>\n",
              "\t<tr><td>turkey           </td><td>burgers          </td><td>dessert wine     </td><td>shrimp        </td><td>pasta          </td><td>tomatoes      </td><td>pepper          </td><td>milk          </td><td>pancakes  </td><td>whole wheat rice</td><td>oil            </td><td>frozen smoothie</td><td></td><td></td><td></td><td></td><td></td><td></td><td></td><td>NA</td></tr>\n",
              "\t<tr><td>pancakes         </td><td>light mayo       </td><td>                 </td><td>              </td><td>               </td><td>              </td><td>                </td><td>              </td><td>          </td><td>                </td><td>               </td><td>               </td><td></td><td></td><td></td><td></td><td></td><td></td><td></td><td>NA</td></tr>\n",
              "\t<tr><td>butter           </td><td>light mayo       </td><td>fresh bread      </td><td>              </td><td>               </td><td>              </td><td>                </td><td>              </td><td>          </td><td>                </td><td>               </td><td>               </td><td></td><td></td><td></td><td></td><td></td><td></td><td></td><td>NA</td></tr>\n",
              "\t<tr><td>burgers          </td><td>frozen vegetables</td><td>eggs             </td><td>french fries  </td><td>magazines      </td><td>green tea     </td><td>                </td><td>              </td><td>          </td><td>                </td><td>               </td><td>               </td><td></td><td></td><td></td><td></td><td></td><td></td><td></td><td>NA</td></tr>\n",
              "\t<tr><td>chicken          </td><td>                 </td><td>                 </td><td>              </td><td>               </td><td>              </td><td>                </td><td>              </td><td>          </td><td>                </td><td>               </td><td>               </td><td></td><td></td><td></td><td></td><td></td><td></td><td></td><td>NA</td></tr>\n",
              "\t<tr><td>escalope         </td><td>green tea        </td><td>                 </td><td>              </td><td>               </td><td>              </td><td>                </td><td>              </td><td>          </td><td>                </td><td>               </td><td>               </td><td></td><td></td><td></td><td></td><td></td><td></td><td></td><td>NA</td></tr>\n",
              "\t<tr><td>eggs             </td><td>frozen smoothie  </td><td>yogurt cake      </td><td>low fat yogurt</td><td>               </td><td>              </td><td>                </td><td>              </td><td>          </td><td>                </td><td>               </td><td>               </td><td></td><td></td><td></td><td></td><td></td><td></td><td></td><td>NA</td></tr>\n",
              "</tbody>\n",
              "</table>\n"
            ]
          },
          "metadata": {
            "tags": []
          }
        }
      ]
    },
    {
      "cell_type": "code",
      "metadata": {
        "id": "oux9rqvavj2X",
        "outputId": "22da740e-23df-4e5b-f60f-2b21048ad996",
        "colab": {
          "base_uri": "https://localhost:8080/",
          "height": 34
        }
      },
      "source": [
        "class(data)"
      ],
      "execution_count": 9,
      "outputs": [
        {
          "output_type": "display_data",
          "data": {
            "text/plain": [
              "[1] \"data.frame\""
            ],
            "text/latex": "'data.frame'",
            "text/markdown": "'data.frame'",
            "text/html": [
              "'data.frame'"
            ]
          },
          "metadata": {
            "tags": []
          }
        }
      ]
    },
    {
      "cell_type": "code",
      "metadata": {
        "id": "Zp2lmnvCS5Vq",
        "outputId": "d9cace04-b58e-4814-cfda-481b9a64392f",
        "colab": {
          "base_uri": "https://localhost:8080/",
          "height": 135
        }
      },
      "source": [
        "# View 10 items that make up our dataset\n",
        "\n",
        "item <- as.data.frame(itemLabels(data))\n",
        "\n",
        "colnames(item) <- \"Item\"\n",
        "\n",
        "head(item,10)\n"
      ],
      "execution_count": 10,
      "outputs": [
        {
          "output_type": "error",
          "ename": "ERROR",
          "evalue": "ignored",
          "traceback": [
            "Error in itemLabels(data): could not find function \"itemLabels\"\nTraceback:\n",
            "1. as.data.frame(itemLabels(data))"
          ]
        }
      ]
    },
    {
      "cell_type": "code",
      "metadata": {
        "id": "HBYTcrbuBer9",
        "outputId": "7a8e395d-8b8c-495a-c565-ac2128eaaf58",
        "colab": {
          "base_uri": "https://localhost:8080/",
          "height": 384
        }
      },
      "source": [
        "# Summary of our Transactions\n",
        "\n",
        "summary(data)\n"
      ],
      "execution_count": 11,
      "outputs": [
        {
          "output_type": "display_data",
          "data": {
            "text/plain": [
              "    shrimp            almonds            avocado          vegetables.mix    \n",
              " Length:7500        Length:7500        Length:7500        Length:7500       \n",
              " Class :character   Class :character   Class :character   Class :character  \n",
              " Mode  :character   Mode  :character   Mode  :character   Mode  :character  \n",
              " green.grapes       whole.weat.flour       yams           cottage.cheese    \n",
              " Length:7500        Length:7500        Length:7500        Length:7500       \n",
              " Class :character   Class :character   Class :character   Class :character  \n",
              " Mode  :character   Mode  :character   Mode  :character   Mode  :character  \n",
              " energy.drink       tomato.juice       low.fat.yogurt      green.tea        \n",
              " Length:7500        Length:7500        Length:7500        Length:7500       \n",
              " Class :character   Class :character   Class :character   Class :character  \n",
              " Mode  :character   Mode  :character   Mode  :character   Mode  :character  \n",
              "    honey              salad           mineral.water         salmon         \n",
              " Length:7500        Length:7500        Length:7500        Length:7500       \n",
              " Class :character   Class :character   Class :character   Class :character  \n",
              " Mode  :character   Mode  :character   Mode  :character   Mode  :character  \n",
              " antioxydant.juice  frozen.smoothie      spinach          olive.oil     \n",
              " Length:7500        Length:7500        Length:7500        Mode:logical  \n",
              " Class :character   Class :character   Class :character   NA's:7500     \n",
              " Mode  :character   Mode  :character   Mode  :character                 "
            ]
          },
          "metadata": {
            "tags": []
          }
        }
      ]
    },
    {
      "cell_type": "code",
      "metadata": {
        "id": "20ewBX_PBkrO"
      },
      "source": [
        "print(\"Frequency of each item\")\n",
        "\n",
        "itemFrequency(data[,1:15], type=\"absolute\")\n",
        "\n",
        "\n",
        "\n",
        "cat (\"Tab\\n\")\n",
        "\n",
        "\n",
        "\n",
        "print(\"A comparison of the frequency of the first 15 columns with the others\")\n"
      ],
      "execution_count": null,
      "outputs": []
    },
    {
      "cell_type": "code",
      "metadata": {
        "id": "3SEbC8u5CAbt"
      },
      "source": [
        "# Finding out the Most common items\n",
        "\n",
        "library(RColorBrewer)\n",
        "\n",
        "\n",
        "\n",
        "itemFrequencyPlot(data, topN= 10, col=brewer.pal(8,'Set1'),main=\"Relative Item Frequency Plot\")\n",
        "\n",
        "\n",
        "\n",
        "itemFrequencyPlot(data, support= 0.1, col=brewer.pal(8,'Set1'),main=\"Relative Importance is at least 10%\")\n"
      ],
      "execution_count": null,
      "outputs": []
    },
    {
      "cell_type": "markdown",
      "metadata": {
        "id": "nXF4b1xaCiGt"
      },
      "source": [
        "# Fitting an association Model"
      ]
    },
    {
      "cell_type": "code",
      "metadata": {
        "id": "Lf9lnOOlBuCV"
      },
      "source": [
        "A.Model <- apriori(data, parameter = list(supp=0.001, conf=0.75))\n",
        "\n",
        "A.Model\n",
        "\n",
        "\n",
        "\n",
        "summary(A.Model)\n",
        "inspect(A.Model[1:5])"
      ],
      "execution_count": null,
      "outputs": []
    },
    {
      "cell_type": "code",
      "metadata": {
        "id": "sP2IHrP1Cq_a"
      },
      "source": [
        "#Sorting the associations and finding out the top 10\n",
        "A.Model<-sort(A.Model, by=\"confidence\", decreasing=TRUE)\n",
        "\n",
        "inspect(A.Model[1:10])\n"
      ],
      "execution_count": null,
      "outputs": []
    },
    {
      "cell_type": "markdown",
      "metadata": {
        "id": "vDZerDGD4d8o"
      },
      "source": [
        "# Summary of Findings\n",
        "\n",
        "From the analysis the first five most popular items are as follows:\n",
        "\n",
        "1. mineral water\n",
        "\n",
        "2. eggs\n",
        "\n",
        "3. spaghetti\n",
        "\n",
        "4. french fries\n",
        "\n",
        "5. chocolates\n"
      ]
    }
  ]
}